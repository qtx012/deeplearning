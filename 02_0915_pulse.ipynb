{
 "cells": [
  {
   "cell_type": "code",
   "execution_count": 53,
   "id": "7df88aef",
   "metadata": {},
   "outputs": [],
   "source": [
    "import numpy as np\n",
    "import matplotlib.pyplot as plt\n",
    "import pandas as pd\n",
    "import seaborn as sns\n",
    "import tensorflow as tf\n",
    "from sklearn.datasets import load_linnerud\n",
    "\n",
    "linnerud = load_linnerud()\n",
    "data = pd.concat([pd.DataFrame(linnerud.data, columns=linnerud.feature_names),\n",
    "                pd.DataFrame(linnerud.target, columns=linnerud.target_names)],\n",
    "               axis=1)\n",
    "\n",
    "# 데이터 전처리\n",
    "data = data.dropna()"
   ]
  },
  {
   "cell_type": "code",
   "execution_count": 44,
   "id": "5b8ba10d",
   "metadata": {},
   "outputs": [],
   "source": [
    "# 학습용 데이터와 테스트용 데이터 분할\n",
    "X_train, X_test, y_train, y_test = train_test_split(data.iloc[:, :-1], data.iloc[:, -1], test_size=0.2, random_state=42)\n"
   ]
  },
  {
   "cell_type": "code",
   "execution_count": 46,
   "id": "dac11508",
   "metadata": {},
   "outputs": [
    {
     "name": "stdout",
     "output_type": "stream",
     "text": [
      "Model: \"sequential_2\"\n",
      "_________________________________________________________________\n",
      " Layer (type)                Output Shape              Param #   \n",
      "=================================================================\n",
      " dense_7 (Dense)             (None, 10)                60        \n",
      "                                                                 \n",
      " dense_8 (Dense)             (None, 5)                 55        \n",
      "                                                                 \n",
      " dense_9 (Dense)             (None, 1)                 6         \n",
      "                                                                 \n",
      "=================================================================\n",
      "Total params: 121 (484.00 Byte)\n",
      "Trainable params: 121 (484.00 Byte)\n",
      "Non-trainable params: 0 (0.00 Byte)\n",
      "_________________________________________________________________\n"
     ]
    }
   ],
   "source": [
    "# 딥러닝 모델 생성\n",
    "from tensorflow.keras.models import Sequential\n",
    "from tensorflow.keras.layers import Dense\n",
    "\n",
    "model = Sequential()\n",
    "model.add(Dense(10, activation = 'relu', input_shape = (5,)))\n",
    "model.add(Dense(5, activation = 'relu'))\n",
    "model.add(Dense(1)) \n",
    "\n",
    "# 모델 학습\n",
    "model.compile(loss='mse', optimizer='adam', metrics=['mae'])\n",
    "model.summary()"
   ]
  },
  {
   "cell_type": "code",
   "execution_count": 27,
   "id": "6a8a98db",
   "metadata": {},
   "outputs": [
    {
     "data": {
      "text/plain": [
       "Index(['Chins', 'Situps', 'Jumps', 'Weight', 'Waist', 'Pulse'], dtype='object')"
      ]
     },
     "execution_count": 27,
     "metadata": {},
     "output_type": "execute_result"
    }
   ],
   "source": [
    "data.columns"
   ]
  },
  {
   "cell_type": "code",
   "execution_count": 47,
   "id": "0ca983bf",
   "metadata": {},
   "outputs": [
    {
     "name": "stdout",
     "output_type": "stream",
     "text": [
      "Epoch 1/100\n",
      "1/1 [==============================] - 2s 2s/step - loss: 714.9237 - mae: 21.8994 - val_loss: 288.6962 - val_mae: 12.7657\n",
      "Epoch 2/100\n",
      "1/1 [==============================] - 0s 67ms/step - loss: 694.7778 - mae: 21.6297 - val_loss: 274.9906 - val_mae: 12.4919\n",
      "Epoch 3/100\n",
      "1/1 [==============================] - 0s 110ms/step - loss: 675.4222 - mae: 21.3566 - val_loss: 262.4200 - val_mae: 12.2273\n",
      "Epoch 4/100\n",
      "1/1 [==============================] - 0s 90ms/step - loss: 657.1157 - mae: 21.0957 - val_loss: 250.8572 - val_mae: 11.9699\n",
      "Epoch 5/100\n",
      "1/1 [==============================] - 0s 88ms/step - loss: 639.3757 - mae: 20.8367 - val_loss: 240.1821 - val_mae: 11.7195\n",
      "Epoch 6/100\n",
      "1/1 [==============================] - 0s 87ms/step - loss: 622.1927 - mae: 20.5841 - val_loss: 233.3254 - val_mae: 11.5412\n",
      "Epoch 7/100\n",
      "1/1 [==============================] - 0s 92ms/step - loss: 605.5590 - mae: 20.3526 - val_loss: 228.3185 - val_mae: 11.4080\n",
      "Epoch 8/100\n",
      "1/1 [==============================] - 0s 80ms/step - loss: 589.8089 - mae: 20.1325 - val_loss: 223.6743 - val_mae: 11.2789\n",
      "Epoch 9/100\n",
      "1/1 [==============================] - 0s 77ms/step - loss: 574.7271 - mae: 19.9218 - val_loss: 219.4150 - val_mae: 11.1905\n",
      "Epoch 10/100\n",
      "1/1 [==============================] - 0s 87ms/step - loss: 560.0073 - mae: 19.7106 - val_loss: 215.7879 - val_mae: 11.1121\n",
      "Epoch 11/100\n",
      "1/1 [==============================] - 0s 83ms/step - loss: 545.6321 - mae: 19.4988 - val_loss: 212.3996 - val_mae: 11.0289\n",
      "Epoch 12/100\n",
      "1/1 [==============================] - 0s 78ms/step - loss: 531.3167 - mae: 19.2808 - val_loss: 209.1831 - val_mae: 10.9429\n",
      "Epoch 13/100\n",
      "1/1 [==============================] - 0s 80ms/step - loss: 517.1027 - mae: 19.0578 - val_loss: 206.1228 - val_mae: 10.8542\n",
      "Epoch 14/100\n",
      "1/1 [==============================] - 0s 88ms/step - loss: 503.1942 - mae: 18.8342 - val_loss: 203.2065 - val_mae: 10.7628\n",
      "Epoch 15/100\n",
      "1/1 [==============================] - 0s 68ms/step - loss: 489.5956 - mae: 18.6103 - val_loss: 200.4242 - val_mae: 10.6688\n",
      "Epoch 16/100\n",
      "1/1 [==============================] - 0s 85ms/step - loss: 476.3090 - mae: 18.3861 - val_loss: 197.7682 - val_mae: 10.5724\n",
      "Epoch 17/100\n",
      "1/1 [==============================] - 0s 97ms/step - loss: 463.4024 - mae: 18.1633 - val_loss: 195.2346 - val_mae: 10.4726\n",
      "Epoch 18/100\n",
      "1/1 [==============================] - 0s 84ms/step - loss: 451.1050 - mae: 17.9463 - val_loss: 192.8007 - val_mae: 10.3700\n",
      "Epoch 19/100\n",
      "1/1 [==============================] - 0s 90ms/step - loss: 438.9124 - mae: 17.7198 - val_loss: 190.4653 - val_mae: 10.2648\n",
      "Epoch 20/100\n",
      "1/1 [==============================] - 0s 88ms/step - loss: 427.0346 - mae: 17.4933 - val_loss: 188.2273 - val_mae: 10.1568\n",
      "Epoch 21/100\n",
      "1/1 [==============================] - 0s 81ms/step - loss: 415.4717 - mae: 17.2668 - val_loss: 186.0858 - val_mae: 10.0463\n",
      "Epoch 22/100\n",
      "1/1 [==============================] - 0s 86ms/step - loss: 404.2217 - mae: 17.0406 - val_loss: 184.0394 - val_mae: 9.9331\n",
      "Epoch 23/100\n",
      "1/1 [==============================] - 0s 74ms/step - loss: 393.2142 - mae: 16.8138 - val_loss: 182.2697 - val_mae: 9.8178\n",
      "Epoch 24/100\n",
      "1/1 [==============================] - 0s 72ms/step - loss: 382.4520 - mae: 16.5868 - val_loss: 180.7551 - val_mae: 9.7006\n",
      "Epoch 25/100\n",
      "1/1 [==============================] - 0s 79ms/step - loss: 373.2100 - mae: 16.3769 - val_loss: 179.5351 - val_mae: 9.5789\n",
      "Epoch 26/100\n",
      "1/1 [==============================] - 0s 92ms/step - loss: 364.5973 - mae: 16.1736 - val_loss: 178.5887 - val_mae: 9.4913\n",
      "Epoch 27/100\n",
      "1/1 [==============================] - 0s 81ms/step - loss: 356.1712 - mae: 15.9709 - val_loss: 177.8962 - val_mae: 9.4067\n",
      "Epoch 28/100\n",
      "1/1 [==============================] - 0s 93ms/step - loss: 347.6606 - mae: 15.7630 - val_loss: 177.4013 - val_mae: 9.3229\n",
      "Epoch 29/100\n",
      "1/1 [==============================] - 0s 83ms/step - loss: 339.3266 - mae: 15.5551 - val_loss: 177.0839 - val_mae: 9.2396\n",
      "Epoch 30/100\n",
      "1/1 [==============================] - 0s 77ms/step - loss: 331.3139 - mae: 15.3526 - val_loss: 176.8277 - val_mae: 9.1562\n",
      "Epoch 31/100\n",
      "1/1 [==============================] - 0s 76ms/step - loss: 323.5790 - mae: 15.1562 - val_loss: 176.5936 - val_mae: 9.0722\n",
      "Epoch 32/100\n",
      "1/1 [==============================] - 0s 72ms/step - loss: 316.0773 - mae: 14.9609 - val_loss: 176.3608 - val_mae: 9.0978\n",
      "Epoch 33/100\n",
      "1/1 [==============================] - 0s 85ms/step - loss: 308.7991 - mae: 14.7659 - val_loss: 176.1095 - val_mae: 9.1335\n",
      "Epoch 34/100\n",
      "1/1 [==============================] - 0s 131ms/step - loss: 301.7391 - mae: 14.5712 - val_loss: 175.8192 - val_mae: 9.1638\n",
      "Epoch 35/100\n",
      "1/1 [==============================] - 0s 74ms/step - loss: 294.4551 - mae: 14.3704 - val_loss: 175.4247 - val_mae: 9.2029\n",
      "Epoch 36/100\n",
      "1/1 [==============================] - 0s 92ms/step - loss: 287.2809 - mae: 14.1678 - val_loss: 174.9579 - val_mae: 9.2536\n",
      "Epoch 37/100\n",
      "1/1 [==============================] - 0s 112ms/step - loss: 280.2665 - mae: 13.9643 - val_loss: 174.3825 - val_mae: 9.2946\n",
      "Epoch 38/100\n",
      "1/1 [==============================] - 0s 90ms/step - loss: 273.4126 - mae: 13.7603 - val_loss: 173.6923 - val_mae: 9.3259\n",
      "Epoch 39/100\n",
      "1/1 [==============================] - 0s 66ms/step - loss: 266.7045 - mae: 13.5540 - val_loss: 172.8823 - val_mae: 9.3478\n",
      "Epoch 40/100\n",
      "1/1 [==============================] - 0s 95ms/step - loss: 260.1720 - mae: 13.3493 - val_loss: 171.9625 - val_mae: 9.3609\n",
      "Epoch 41/100\n",
      "1/1 [==============================] - 0s 72ms/step - loss: 253.9000 - mae: 13.1543 - val_loss: 170.9279 - val_mae: 9.3654\n",
      "Epoch 42/100\n",
      "1/1 [==============================] - 0s 72ms/step - loss: 247.8064 - mae: 12.9599 - val_loss: 169.7760 - val_mae: 9.3614\n",
      "Epoch 43/100\n",
      "1/1 [==============================] - 0s 74ms/step - loss: 241.8895 - mae: 12.7662 - val_loss: 168.5070 - val_mae: 9.3492\n",
      "Epoch 44/100\n",
      "1/1 [==============================] - 0s 89ms/step - loss: 236.1469 - mae: 12.5734 - val_loss: 167.1231 - val_mae: 9.3290\n",
      "Epoch 45/100\n",
      "1/1 [==============================] - 0s 96ms/step - loss: 230.5768 - mae: 12.3817 - val_loss: 165.6290 - val_mae: 9.3014\n",
      "Epoch 46/100\n",
      "1/1 [==============================] - 0s 103ms/step - loss: 225.1771 - mae: 12.1911 - val_loss: 164.0314 - val_mae: 9.2666\n",
      "Epoch 47/100\n",
      "1/1 [==============================] - 0s 103ms/step - loss: 219.9461 - mae: 12.0018 - val_loss: 162.3391 - val_mae: 9.2252\n",
      "Epoch 48/100\n",
      "1/1 [==============================] - 0s 94ms/step - loss: 214.8824 - mae: 11.8139 - val_loss: 160.5616 - val_mae: 9.1777\n",
      "Epoch 49/100\n",
      "1/1 [==============================] - 0s 103ms/step - loss: 209.9842 - mae: 11.6276 - val_loss: 158.7108 - val_mae: 9.1246\n",
      "Epoch 50/100\n",
      "1/1 [==============================] - 0s 150ms/step - loss: 205.2499 - mae: 11.4429 - val_loss: 156.7990 - val_mae: 9.0667\n",
      "Epoch 51/100\n",
      "1/1 [==============================] - 0s 121ms/step - loss: 200.6778 - mae: 11.2599 - val_loss: 154.8388 - val_mae: 9.0043\n",
      "Epoch 52/100\n",
      "1/1 [==============================] - 0s 130ms/step - loss: 196.2664 - mae: 11.0787 - val_loss: 152.8539 - val_mae: 8.9447\n",
      "Epoch 53/100\n",
      "1/1 [==============================] - 0s 75ms/step - loss: 191.9540 - mae: 10.8996 - val_loss: 150.9190 - val_mae: 8.8890\n",
      "Epoch 54/100\n",
      "1/1 [==============================] - 0s 93ms/step - loss: 187.4833 - mae: 10.7152 - val_loss: 149.0276 - val_mae: 8.8320\n",
      "Epoch 55/100\n",
      "1/1 [==============================] - 0s 87ms/step - loss: 183.1445 - mae: 10.5324 - val_loss: 147.1820 - val_mae: 8.7739\n",
      "Epoch 56/100\n",
      "1/1 [==============================] - 0s 90ms/step - loss: 178.9418 - mae: 10.3513 - val_loss: 145.3846 - val_mae: 8.7150\n",
      "Epoch 57/100\n",
      "1/1 [==============================] - 0s 92ms/step - loss: 174.8780 - mae: 10.1822 - val_loss: 143.6377 - val_mae: 8.6553\n",
      "Epoch 58/100\n",
      "1/1 [==============================] - 0s 90ms/step - loss: 170.9552 - mae: 10.0319 - val_loss: 141.9433 - val_mae: 8.5953\n",
      "Epoch 59/100\n",
      "1/1 [==============================] - 0s 86ms/step - loss: 167.1532 - mae: 9.8803 - val_loss: 140.2906 - val_mae: 8.5343\n",
      "Epoch 60/100\n",
      "1/1 [==============================] - 0s 92ms/step - loss: 163.4232 - mae: 9.7434 - val_loss: 138.6778 - val_mae: 8.4726\n",
      "Epoch 61/100\n"
     ]
    },
    {
     "name": "stdout",
     "output_type": "stream",
     "text": [
      "1/1 [==============================] - 0s 74ms/step - loss: 159.8348 - mae: 9.6291 - val_loss: 137.0950 - val_mae: 8.4098\n",
      "Epoch 62/100\n",
      "1/1 [==============================] - 0s 91ms/step - loss: 156.3867 - mae: 9.5247 - val_loss: 135.5413 - val_mae: 8.3460\n",
      "Epoch 63/100\n",
      "1/1 [==============================] - 0s 86ms/step - loss: 153.3712 - mae: 9.4312 - val_loss: 133.9347 - val_mae: 8.2776\n",
      "Epoch 64/100\n",
      "1/1 [==============================] - 0s 81ms/step - loss: 150.7498 - mae: 9.3473 - val_loss: 132.2791 - val_mae: 8.2049\n",
      "Epoch 65/100\n",
      "1/1 [==============================] - 0s 92ms/step - loss: 148.2168 - mae: 9.2629 - val_loss: 130.5803 - val_mae: 8.1283\n",
      "Epoch 66/100\n",
      "1/1 [==============================] - 0s 95ms/step - loss: 145.7702 - mae: 9.1783 - val_loss: 128.8463 - val_mae: 8.0822\n",
      "Epoch 67/100\n",
      "1/1 [==============================] - 0s 79ms/step - loss: 143.4085 - mae: 9.1069 - val_loss: 127.0868 - val_mae: 8.0557\n",
      "Epoch 68/100\n",
      "1/1 [==============================] - 0s 91ms/step - loss: 141.1306 - mae: 9.0521 - val_loss: 125.3120 - val_mae: 8.0296\n",
      "Epoch 69/100\n",
      "1/1 [==============================] - 0s 85ms/step - loss: 138.9351 - mae: 9.0165 - val_loss: 123.5328 - val_mae: 8.0037\n",
      "Epoch 70/100\n",
      "1/1 [==============================] - 0s 94ms/step - loss: 136.8209 - mae: 8.9808 - val_loss: 121.7606 - val_mae: 7.9782\n",
      "Epoch 71/100\n",
      "1/1 [==============================] - 0s 94ms/step - loss: 134.7871 - mae: 8.9451 - val_loss: 120.0062 - val_mae: 7.9531\n",
      "Epoch 72/100\n",
      "1/1 [==============================] - 0s 105ms/step - loss: 132.8322 - mae: 8.9095 - val_loss: 118.2803 - val_mae: 7.9283\n",
      "Epoch 73/100\n",
      "1/1 [==============================] - 0s 91ms/step - loss: 130.9550 - mae: 8.8740 - val_loss: 116.5934 - val_mae: 7.9039\n",
      "Epoch 74/100\n",
      "1/1 [==============================] - 0s 99ms/step - loss: 129.1540 - mae: 8.8388 - val_loss: 114.9546 - val_mae: 7.8798\n",
      "Epoch 75/100\n",
      "1/1 [==============================] - 0s 84ms/step - loss: 127.4275 - mae: 8.8038 - val_loss: 113.3719 - val_mae: 7.8563\n",
      "Epoch 76/100\n",
      "1/1 [==============================] - 0s 93ms/step - loss: 125.7739 - mae: 8.7691 - val_loss: 111.8528 - val_mae: 7.8332\n",
      "Epoch 77/100\n",
      "1/1 [==============================] - 0s 111ms/step - loss: 124.1911 - mae: 8.7349 - val_loss: 110.4036 - val_mae: 7.8106\n",
      "Epoch 78/100\n",
      "1/1 [==============================] - 0s 83ms/step - loss: 122.6770 - mae: 8.7011 - val_loss: 109.0287 - val_mae: 7.7885\n",
      "Epoch 79/100\n",
      "1/1 [==============================] - 0s 92ms/step - loss: 121.2295 - mae: 8.6677 - val_loss: 107.7318 - val_mae: 7.7670\n",
      "Epoch 80/100\n",
      "1/1 [==============================] - 0s 102ms/step - loss: 119.8464 - mae: 8.6348 - val_loss: 106.5160 - val_mae: 7.7460\n",
      "Epoch 81/100\n",
      "1/1 [==============================] - 0s 80ms/step - loss: 118.5254 - mae: 8.6025 - val_loss: 105.3824 - val_mae: 7.7256\n",
      "Epoch 82/100\n",
      "1/1 [==============================] - 0s 87ms/step - loss: 117.2640 - mae: 8.5707 - val_loss: 104.3315 - val_mae: 7.7057\n",
      "Epoch 83/100\n",
      "1/1 [==============================] - 0s 68ms/step - loss: 116.0601 - mae: 8.5395 - val_loss: 103.3627 - val_mae: 7.6863\n",
      "Epoch 84/100\n",
      "1/1 [==============================] - 0s 83ms/step - loss: 114.9114 - mae: 8.5089 - val_loss: 102.4747 - val_mae: 7.6674\n",
      "Epoch 85/100\n",
      "1/1 [==============================] - 0s 96ms/step - loss: 113.8156 - mae: 8.4789 - val_loss: 101.6648 - val_mae: 7.6491\n",
      "Epoch 86/100\n",
      "1/1 [==============================] - 0s 89ms/step - loss: 112.7705 - mae: 8.4496 - val_loss: 100.9302 - val_mae: 7.6312\n",
      "Epoch 87/100\n",
      "1/1 [==============================] - 0s 79ms/step - loss: 111.7741 - mae: 8.4208 - val_loss: 100.2675 - val_mae: 7.6137\n",
      "Epoch 88/100\n",
      "1/1 [==============================] - 0s 138ms/step - loss: 110.8244 - mae: 8.3927 - val_loss: 99.6723 - val_mae: 7.5966\n",
      "Epoch 89/100\n",
      "1/1 [==============================] - 0s 71ms/step - loss: 109.9195 - mae: 8.3652 - val_loss: 99.1397 - val_mae: 7.5798\n",
      "Epoch 90/100\n",
      "1/1 [==============================] - 0s 85ms/step - loss: 109.0573 - mae: 8.3383 - val_loss: 98.6650 - val_mae: 7.5634\n",
      "Epoch 91/100\n",
      "1/1 [==============================] - 0s 89ms/step - loss: 108.2362 - mae: 8.3120 - val_loss: 98.2431 - val_mae: 7.5472\n",
      "Epoch 92/100\n",
      "1/1 [==============================] - 0s 61ms/step - loss: 107.4612 - mae: 8.2871 - val_loss: 97.8666 - val_mae: 7.5314\n",
      "Epoch 93/100\n",
      "1/1 [==============================] - 0s 80ms/step - loss: 106.7400 - mae: 8.2645 - val_loss: 97.5293 - val_mae: 7.5159\n",
      "Epoch 94/100\n",
      "1/1 [==============================] - 0s 68ms/step - loss: 106.0548 - mae: 8.2424 - val_loss: 97.2255 - val_mae: 7.5006\n",
      "Epoch 95/100\n",
      "1/1 [==============================] - 0s 81ms/step - loss: 105.4039 - mae: 8.2209 - val_loss: 96.9493 - val_mae: 7.4992\n",
      "Epoch 96/100\n",
      "1/1 [==============================] - 0s 74ms/step - loss: 104.7853 - mae: 8.1999 - val_loss: 96.6953 - val_mae: 7.5322\n",
      "Epoch 97/100\n",
      "1/1 [==============================] - 0s 85ms/step - loss: 104.1974 - mae: 8.1795 - val_loss: 96.4590 - val_mae: 7.5642\n",
      "Epoch 98/100\n",
      "1/1 [==============================] - 0s 80ms/step - loss: 103.6385 - mae: 8.1595 - val_loss: 96.2355 - val_mae: 7.5953\n",
      "Epoch 99/100\n",
      "1/1 [==============================] - 0s 90ms/step - loss: 103.1069 - mae: 8.1399 - val_loss: 96.0208 - val_mae: 7.6253\n",
      "Epoch 100/100\n",
      "1/1 [==============================] - 0s 75ms/step - loss: 102.6010 - mae: 8.1209 - val_loss: 95.8118 - val_mae: 7.6542\n"
     ]
    }
   ],
   "source": [
    "N_EPOCHS = 100\n",
    "history = model.fit(X_train, y_train, epochs = N_EPOCHS, validation_data=(X_test, y_test))"
   ]
  },
  {
   "cell_type": "code",
   "execution_count": 48,
   "id": "5aa2b80e",
   "metadata": {},
   "outputs": [
    {
     "name": "stdout",
     "output_type": "stream",
     "text": [
      "1/1 [==============================] - 0s 59ms/step - loss: 95.8118 - mae: 7.6542\n"
     ]
    },
    {
     "data": {
      "text/plain": [
       "[95.81177520751953, 7.654150009155273]"
      ]
     },
     "execution_count": 48,
     "metadata": {},
     "output_type": "execute_result"
    }
   ],
   "source": [
    "model.evaluate(X_test, y_test)"
   ]
  },
  {
   "cell_type": "code",
   "execution_count": 49,
   "id": "550d0819",
   "metadata": {},
   "outputs": [
    {
     "data": {
      "image/png": "[encoded data removed]",
      "text/plain": [
       "<Figure size 1000x700 with 1 Axes>"
      ]
     },
     "metadata": {},
     "output_type": "display_data"
    }
   ],
   "source": [
    "# loss 체크\n",
    "import matplotlib.pyplot as plt\n",
    "plt.figure(figsize=(10,7))\n",
    "plt.plot(range(N_EPOCHS), history.history['loss'], label='train loss')\n",
    "plt.plot(range(N_EPOCHS), history.history['val_loss'], label='test loss')\n",
    "plt.xlabel('Epoch')\n",
    "plt.ylabel('Loss')\n",
    "plt.legend()\n",
    "plt.show()"
   ]
  },
  {
   "cell_type": "code",
   "execution_count": 59,
   "id": "46362b0a",
   "metadata": {},
   "outputs": [
    {
     "name": "stdout",
     "output_type": "stream",
     "text": [
      "loss: 95.81177520751953, mse: 7.654150009155273\n"
     ]
    }
   ],
   "source": [
    "# 모델 평가\n",
    "loss = model.evaluate(X_test, y_test, verbose=0)[0]\n",
    "mse = model.evaluate(X_test, y_test, verbose=0)[1]\n",
    "print(f'loss: {loss}, mse: {mse}')"
   ]
  },
  {
   "cell_type": "code",
   "execution_count": 51,
   "id": "e39f03c4",
   "metadata": {},
   "outputs": [
    {
     "name": "stdout",
     "output_type": "stream",
     "text": [
      "1/1 [==============================] - 0s 217ms/step\n",
      "[[61.3269]]\n"
     ]
    }
   ],
   "source": [
    "# 새로운 데이터의 Pulse 예측\n",
    "new_data = np.array([[5, 162, 60, 191, 36]])\n",
    "y_pred = model.predict(new_data)\n",
    "print(y_pred)"
   ]
  },
  {
   "cell_type": "code",
   "execution_count": null,
   "id": "1e256b66",
   "metadata": {},
   "outputs": [],
   "source": []
  }
 ],
 "metadata": {
  "kernelspec": {
   "display_name": "Python 3 (ipykernel)",
   "language": "python",
   "name": "python3"
  },
  "language_info": {
   "codemirror_mode": {
    "name": "ipython",
    "version": 3
   },
   "file_extension": ".py",
   "mimetype": "text/x-python",
   "name": "python",
   "nbconvert_exporter": "python",
   "pygments_lexer": "ipython3",
   "version": "3.11.4"
  }
 },
 "nbformat": 4,
 "nbformat_minor": 5
}
