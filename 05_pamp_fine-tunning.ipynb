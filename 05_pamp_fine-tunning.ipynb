{
 "cells": [
  {
   "cell_type": "code",
   "execution_count": 132,
   "id": "8c2dec36",
   "metadata": {},
   "outputs": [],
   "source": [
    "from numpy import expand_dims\n",
    "from numpy import zeros\n",
    "from numpy import ones\n",
    "from numpy import asarray\n",
    "from numpy.random import randn\n",
    "from numpy.random import randint\n",
    "from keras.datasets.mnist import load_data\n",
    "from tensorflow.keras.optimizers import Adam\n",
    "from keras.layers import Reshape\n",
    "from keras.layers import Conv2D\n",
    "from keras.layers import Conv2DTranspose\n",
    "from keras.layers import LeakyReLU\n",
    "from keras.layers import Lambda\n",
    "from keras.layers import Activation\n",
    "from matplotlib import pyplot\n",
    "from keras import backend\n",
    "\n",
    "import tensorflow as tf\n",
    "import pandas as pd\n",
    "import numpy as np\n",
    "import glob\n",
    "import os\n",
    "from tensorflow.keras.utils import to_categorical"
   ]
  },
  {
   "cell_type": "code",
   "execution_count": 133,
   "id": "4f9c695e",
   "metadata": {},
   "outputs": [],
   "source": [
    "from sklearn.metrics import confusion_matrix\n",
    "from sklearn.preprocessing import StandardScaler\n",
    "from sklearn.model_selection import train_test_split\n",
    "from scipy import stats\n",
    "from sklearn.preprocessing import OneHotEncoder,LabelEncoder\n",
    "\n",
    "from tensorflow import keras\n",
    "from tensorflow.keras.layers import Bidirectional\n",
    "import seaborn as sns\n",
    "from pylab import rcParams\n",
    "import matplotlib.pyplot as plt\n",
    "from matplotlib import rc\n",
    "from pandas.plotting import register_matplotlib_converters\n",
    "from tensorflow.keras.models import Model\n",
    "from tensorflow.keras.models import Sequential\n",
    "from tensorflow.keras.layers import LSTM,Input,Dense,Flatten,Dropout,Conv1D,MaxPooling1D,concatenate\n",
    "from keras.utils import to_categorical"
   ]
  },
  {
   "cell_type": "code",
   "execution_count": 134,
   "id": "3421bcca",
   "metadata": {},
   "outputs": [],
   "source": [
    "features = pd.read_csv(\"C:/pamap2.csv\", index_col=0)"
   ]
  },
  {
   "cell_type": "code",
   "execution_count": 135,
   "id": "c520d2fc",
   "metadata": {
    "scrolled": false
   },
   "outputs": [
    {
     "data": {
      "text/html": [
       "<div>\n",
       "<style scoped>\n",
       "    .dataframe tbody tr th:only-of-type {\n",
       "        vertical-align: middle;\n",
       "    }\n",
       "\n",
       "    .dataframe tbody tr th {\n",
       "        vertical-align: top;\n",
       "    }\n",
       "\n",
       "    .dataframe thead th {\n",
       "        text-align: right;\n",
       "    }\n",
       "</style>\n",
       "<table border=\"1\" class=\"dataframe\">\n",
       "  <thead>\n",
       "    <tr style=\"text-align: right;\">\n",
       "      <th></th>\n",
       "      <th>timestamp</th>\n",
       "      <th>activityID</th>\n",
       "      <th>heartrate</th>\n",
       "      <th>handTemperature</th>\n",
       "      <th>handAcc16_1</th>\n",
       "      <th>handAcc16_2</th>\n",
       "      <th>handAcc16_3</th>\n",
       "      <th>handAcc6_1</th>\n",
       "      <th>handAcc6_2</th>\n",
       "      <th>handAcc6_3</th>\n",
       "      <th>...</th>\n",
       "      <th>ankleGyro2</th>\n",
       "      <th>ankleGyro3</th>\n",
       "      <th>ankleMagne1</th>\n",
       "      <th>ankleMagne2</th>\n",
       "      <th>ankleMagne3</th>\n",
       "      <th>ankleOrientation1</th>\n",
       "      <th>ankleOrientation2</th>\n",
       "      <th>ankleOrientation3</th>\n",
       "      <th>ankleOrientation4</th>\n",
       "      <th>subject_id</th>\n",
       "    </tr>\n",
       "  </thead>\n",
       "  <tbody>\n",
       "    <tr>\n",
       "      <th>2932</th>\n",
       "      <td>37.70</td>\n",
       "      <td>0</td>\n",
       "      <td>100.0</td>\n",
       "      <td>30.375</td>\n",
       "      <td>2.30106</td>\n",
       "      <td>7.25857</td>\n",
       "      <td>6.09259</td>\n",
       "      <td>2.20720</td>\n",
       "      <td>7.24042</td>\n",
       "      <td>5.95555</td>\n",
       "      <td>...</td>\n",
       "      <td>-0.048878</td>\n",
       "      <td>-0.006328</td>\n",
       "      <td>-60.2040</td>\n",
       "      <td>-37.1225</td>\n",
       "      <td>-57.8847</td>\n",
       "      <td>1.0</td>\n",
       "      <td>0.0</td>\n",
       "      <td>0.0</td>\n",
       "      <td>0.0</td>\n",
       "      <td>1</td>\n",
       "    </tr>\n",
       "    <tr>\n",
       "      <th>2943</th>\n",
       "      <td>37.81</td>\n",
       "      <td>0</td>\n",
       "      <td>100.0</td>\n",
       "      <td>30.375</td>\n",
       "      <td>2.24615</td>\n",
       "      <td>7.48180</td>\n",
       "      <td>5.55219</td>\n",
       "      <td>2.25130</td>\n",
       "      <td>7.40595</td>\n",
       "      <td>5.65313</td>\n",
       "      <td>...</td>\n",
       "      <td>-0.017912</td>\n",
       "      <td>0.015243</td>\n",
       "      <td>-60.7820</td>\n",
       "      <td>-36.2116</td>\n",
       "      <td>-58.4891</td>\n",
       "      <td>1.0</td>\n",
       "      <td>0.0</td>\n",
       "      <td>0.0</td>\n",
       "      <td>0.0</td>\n",
       "      <td>1</td>\n",
       "    </tr>\n",
       "    <tr>\n",
       "      <th>2954</th>\n",
       "      <td>37.92</td>\n",
       "      <td>0</td>\n",
       "      <td>100.0</td>\n",
       "      <td>30.375</td>\n",
       "      <td>2.30000</td>\n",
       "      <td>7.10681</td>\n",
       "      <td>6.09309</td>\n",
       "      <td>2.34613</td>\n",
       "      <td>7.46611</td>\n",
       "      <td>6.12103</td>\n",
       "      <td>...</td>\n",
       "      <td>-0.011798</td>\n",
       "      <td>0.011387</td>\n",
       "      <td>-61.4531</td>\n",
       "      <td>-36.2983</td>\n",
       "      <td>-58.4845</td>\n",
       "      <td>1.0</td>\n",
       "      <td>0.0</td>\n",
       "      <td>0.0</td>\n",
       "      <td>0.0</td>\n",
       "      <td>1</td>\n",
       "    </tr>\n",
       "    <tr>\n",
       "      <th>2965</th>\n",
       "      <td>38.03</td>\n",
       "      <td>0</td>\n",
       "      <td>100.0</td>\n",
       "      <td>30.375</td>\n",
       "      <td>2.49455</td>\n",
       "      <td>7.52335</td>\n",
       "      <td>6.17157</td>\n",
       "      <td>2.59106</td>\n",
       "      <td>7.76653</td>\n",
       "      <td>6.27112</td>\n",
       "      <td>...</td>\n",
       "      <td>-0.009233</td>\n",
       "      <td>0.005823</td>\n",
       "      <td>-62.0065</td>\n",
       "      <td>-36.7217</td>\n",
       "      <td>-58.3608</td>\n",
       "      <td>1.0</td>\n",
       "      <td>0.0</td>\n",
       "      <td>0.0</td>\n",
       "      <td>0.0</td>\n",
       "      <td>1</td>\n",
       "    </tr>\n",
       "    <tr>\n",
       "      <th>2976</th>\n",
       "      <td>38.14</td>\n",
       "      <td>0</td>\n",
       "      <td>101.0</td>\n",
       "      <td>30.375</td>\n",
       "      <td>2.71654</td>\n",
       "      <td>8.30596</td>\n",
       "      <td>4.78671</td>\n",
       "      <td>2.59596</td>\n",
       "      <td>7.94641</td>\n",
       "      <td>4.86635</td>\n",
       "      <td>...</td>\n",
       "      <td>-0.042562</td>\n",
       "      <td>-0.009289</td>\n",
       "      <td>-60.4311</td>\n",
       "      <td>-37.5412</td>\n",
       "      <td>-59.0013</td>\n",
       "      <td>1.0</td>\n",
       "      <td>0.0</td>\n",
       "      <td>0.0</td>\n",
       "      <td>0.0</td>\n",
       "      <td>1</td>\n",
       "    </tr>\n",
       "  </tbody>\n",
       "</table>\n",
       "<p>5 rows × 55 columns</p>\n",
       "</div>"
      ],
      "text/plain": [
       "      timestamp  activityID  heartrate  handTemperature  handAcc16_1  \\\n",
       "2932      37.70           0      100.0           30.375      2.30106   \n",
       "2943      37.81           0      100.0           30.375      2.24615   \n",
       "2954      37.92           0      100.0           30.375      2.30000   \n",
       "2965      38.03           0      100.0           30.375      2.49455   \n",
       "2976      38.14           0      101.0           30.375      2.71654   \n",
       "\n",
       "      handAcc16_2  handAcc16_3  handAcc6_1  handAcc6_2  handAcc6_3  ...  \\\n",
       "2932      7.25857      6.09259     2.20720     7.24042     5.95555  ...   \n",
       "2943      7.48180      5.55219     2.25130     7.40595     5.65313  ...   \n",
       "2954      7.10681      6.09309     2.34613     7.46611     6.12103  ...   \n",
       "2965      7.52335      6.17157     2.59106     7.76653     6.27112  ...   \n",
       "2976      8.30596      4.78671     2.59596     7.94641     4.86635  ...   \n",
       "\n",
       "      ankleGyro2  ankleGyro3  ankleMagne1  ankleMagne2  ankleMagne3  \\\n",
       "2932   -0.048878   -0.006328     -60.2040     -37.1225     -57.8847   \n",
       "2943   -0.017912    0.015243     -60.7820     -36.2116     -58.4891   \n",
       "2954   -0.011798    0.011387     -61.4531     -36.2983     -58.4845   \n",
       "2965   -0.009233    0.005823     -62.0065     -36.7217     -58.3608   \n",
       "2976   -0.042562   -0.009289     -60.4311     -37.5412     -59.0013   \n",
       "\n",
       "      ankleOrientation1  ankleOrientation2  ankleOrientation3  \\\n",
       "2932                1.0                0.0                0.0   \n",
       "2943                1.0                0.0                0.0   \n",
       "2954                1.0                0.0                0.0   \n",
       "2965                1.0                0.0                0.0   \n",
       "2976                1.0                0.0                0.0   \n",
       "\n",
       "      ankleOrientation4  subject_id  \n",
       "2932                0.0           1  \n",
       "2943                0.0           1  \n",
       "2954                0.0           1  \n",
       "2965                0.0           1  \n",
       "2976                0.0           1  \n",
       "\n",
       "[5 rows x 55 columns]"
      ]
     },
     "execution_count": 135,
     "metadata": {},
     "output_type": "execute_result"
    }
   ],
   "source": [
    "label = LabelEncoder()\n",
    "features['activityID'] = label.fit_transform(features['activityID'])\n",
    "features.head()"
   ]
  },
  {
   "cell_type": "code",
   "execution_count": 136,
   "id": "3efabd5f",
   "metadata": {
    "scrolled": false
   },
   "outputs": [
    {
     "data": {
      "text/plain": [
       "3    20998\n",
       "0    17575\n",
       "2    17256\n",
       "1    16881\n",
       "5    16857\n",
       "6    10699\n",
       "7     9585\n",
       "4     8665\n",
       "Name: activityID, dtype: int64"
      ]
     },
     "execution_count": 136,
     "metadata": {},
     "output_type": "execute_result"
    }
   ],
   "source": [
    "features['activityID'].value_counts()"
   ]
  },
  {
   "cell_type": "code",
   "execution_count": 137,
   "id": "2b69aaec",
   "metadata": {},
   "outputs": [],
   "source": [
    "indexes = features[features['activityID'] == 0].index\n",
    "features.drop(indexes , inplace=True)"
   ]
  },
  {
   "cell_type": "code",
   "execution_count": 138,
   "id": "775be86a",
   "metadata": {},
   "outputs": [],
   "source": [
    "\n",
    "X = features[['handAcc16_1' , 'handAcc16_2' , 'handAcc16_3' ,\n",
    "    'handAcc6_1' , 'handAcc6_2' , 'handAcc6_3' ,'chestAcc16_1', 'chestAcc16_2',  'chestAcc16_3',   \n",
    "    'chestAcc6_1',  'chestAcc6_2',  'chestAcc6_3']]\n",
    "\n",
    "y= features['activityID']\n",
    "\n",
    "scaler = StandardScaler()\n",
    "\n",
    "X = scaler.fit_transform(X)\n",
    "\n",
    "scaled_X = pd.DataFrame(data = X, columns = ['handAcc16_1' , 'handAcc16_2' , 'handAcc16_3' ,\n",
    "    'handAcc6_1' , 'handAcc6_2' , 'handAcc6_3' ,  'chestAcc16_1', 'chestAcc16_2',  'chestAcc16_3',   \n",
    "    'chestAcc6_1',  'chestAcc6_2',  'chestAcc6_3'\n",
    "    ])\n",
    "scaled_X['label'] = y.values"
   ]
  },
  {
   "cell_type": "code",
   "execution_count": 139,
   "id": "8a90fc10",
   "metadata": {},
   "outputs": [],
   "source": [
    "\n",
    "\n",
    "X_train, X_test, y_train, y_test = train_test_split(scaled_X, \n",
    "                                                    scaled_X[\"label\"],\n",
    "                                                    test_size = 0.2, \n",
    "                                                    shuffle = True, \n",
    "                                                    random_state = 21)"
   ]
  },
  {
   "cell_type": "code",
   "execution_count": 140,
   "id": "a9f450c6",
   "metadata": {},
   "outputs": [],
   "source": [
    "    \n",
    "TIME_STEPS = 40\n",
    "STEP = 10"
   ]
  },
  {
   "cell_type": "code",
   "execution_count": 141,
   "id": "aa3e0a9a",
   "metadata": {},
   "outputs": [],
   "source": [
    "\n",
    "\n",
    "def create_dataset(X, y, time_steps, step):\n",
    "    Xs, ys = [], []\n",
    "    for i in range(0, len(X) - time_steps, step):\n",
    "        v = X.iloc[i:(i + time_steps)].values\n",
    "        labels = y.iloc[i: i + time_steps]\n",
    "        Xs.append(v)        \n",
    "        ys.append(stats.mode(labels)[0][0])\n",
    "    return np.array(Xs), np.array(ys).reshape(-1, 1)"
   ]
  },
  {
   "cell_type": "code",
   "execution_count": 142,
   "id": "db020a29",
   "metadata": {
    "scrolled": false
   },
   "outputs": [
    {
     "name": "stderr",
     "output_type": "stream",
     "text": [
      "C:\\Users\\qtx01\\AppData\\Local\\Temp\\ipykernel_28264\\302130513.py:7: FutureWarning: Unlike other reduction functions (e.g. `skew`, `kurtosis`), the default behavior of `mode` typically preserves the axis it acts along. In SciPy 1.11.0, this behavior will change: the default value of `keepdims` will become False, the `axis` over which the statistic is taken will be eliminated, and the value None will no longer be accepted. Set `keepdims` to True or False to avoid this warning.\n",
      "  ys.append(stats.mode(labels)[0][0])\n",
      "C:\\Users\\qtx01\\AppData\\Local\\Temp\\ipykernel_28264\\302130513.py:7: FutureWarning: Unlike other reduction functions (e.g. `skew`, `kurtosis`), the default behavior of `mode` typically preserves the axis it acts along. In SciPy 1.11.0, this behavior will change: the default value of `keepdims` will become False, the `axis` over which the statistic is taken will be eliminated, and the value None will no longer be accepted. Set `keepdims` to True or False to avoid this warning.\n",
      "  ys.append(stats.mode(labels)[0][0])\n"
     ]
    }
   ],
   "source": [
    "X_train, y_train = create_dataset(X_train[['handAcc16_1' , 'handAcc16_2' , 'handAcc16_3' ,\n",
    "    'handAcc6_1' , 'handAcc6_2' , 'handAcc6_3' ]], X_train.label, TIME_STEPS,\n",
    "                                  STEP)\n",
    "X_test, y_test = create_dataset(X_test[['handAcc16_1' , 'handAcc16_2' , 'handAcc16_3' ,\n",
    "    'handAcc6_1' , 'handAcc6_2' , 'handAcc6_3']], X_test.label, TIME_STEPS, STEP)\n",
    "\n"
   ]
  },
  {
   "cell_type": "code",
   "execution_count": 143,
   "id": "4b62d3d4",
   "metadata": {
    "scrolled": false
   },
   "outputs": [
    {
     "name": "stderr",
     "output_type": "stream",
     "text": [
      "C:\\Users\\qtx01\\anaconda3\\Lib\\site-packages\\sklearn\\preprocessing\\_encoders.py:972: FutureWarning: `sparse` was renamed to `sparse_output` in version 1.2 and will be removed in 1.4. `sparse_output` is ignored unless you leave `sparse` to its default value.\n",
      "  warnings.warn(\n"
     ]
    }
   ],
   "source": [
    "enc = OneHotEncoder(handle_unknown = \"ignore\", sparse = False)\n",
    "enc = enc.fit(y_train)\n",
    "\n",
    "y_train = enc.transform(y_train)\n",
    "y_test = enc.transform(y_test)"
   ]
  },
  {
   "cell_type": "code",
   "execution_count": 144,
   "id": "899df8e1",
   "metadata": {},
   "outputs": [
    {
     "name": "stdout",
     "output_type": "stream",
     "text": [
      "X_train.shape:  (8072, 40, 6)\n",
      "X_test.shape  (2015, 40, 6)\n",
      "y_train.shape  (8072, 7)\n",
      "y_test.shape  (2015, 7)\n"
     ]
    }
   ],
   "source": [
    "print(\"X_train.shape: \", X_train.shape)\n",
    "print(\"X_test.shape \", X_test.shape)\n",
    "print(\"y_train.shape \", y_train.shape)\n",
    "print(\"y_test.shape \", y_test.shape)\n"
   ]
  },
  {
   "cell_type": "code",
   "execution_count": 145,
   "id": "f892ed56",
   "metadata": {},
   "outputs": [],
   "source": [
    "#Epoch 500\n",
    "\n",
    "verbose,epochs,batch_size=1,30,64 \n",
    "\n",
    "n_timesteps,n_features,n_outputs=X_train.shape[1],X_train.shape[2],y_train.shape[1]"
   ]
  },
  {
   "cell_type": "code",
   "execution_count": 146,
   "id": "ef27b06e",
   "metadata": {},
   "outputs": [
    {
     "data": {
      "text/plain": [
       "(40, 6, 7)"
      ]
     },
     "execution_count": 146,
     "metadata": {},
     "output_type": "execute_result"
    }
   ],
   "source": [
    "n_timesteps, n_features, n_outputs"
   ]
  },
  {
   "cell_type": "code",
   "execution_count": 147,
   "id": "63391a94",
   "metadata": {},
   "outputs": [
    {
     "name": "stdout",
     "output_type": "stream",
     "text": [
      "Model: \"sequential_2\"\n",
      "_________________________________________________________________\n",
      " Layer (type)                Output Shape              Param #   \n",
      "=================================================================\n",
      " lstm_4 (LSTM)               (None, 40, 64)            18176     \n",
      "                                                                 \n",
      " lstm_5 (LSTM)               (None, 128)               98816     \n",
      "                                                                 \n",
      " dropout_4 (Dropout)         (None, 128)               0         \n",
      "                                                                 \n",
      " dense_4 (Dense)             (None, 64)                8256      \n",
      "                                                                 \n",
      " dropout_5 (Dropout)         (None, 64)                0         \n",
      "                                                                 \n",
      " dense_5 (Dense)             (None, 7)                 455       \n",
      "                                                                 \n",
      "=================================================================\n",
      "Total params: 125703 (491.03 KB)\n",
      "Trainable params: 125703 (491.03 KB)\n",
      "Non-trainable params: 0 (0.00 Byte)\n",
      "_________________________________________________________________\n"
     ]
    }
   ],
   "source": [
    "\n",
    "model = Sequential()\n",
    "model.add(LSTM(64,input_shape = [n_timesteps, n_features], return_sequences=True))\n",
    "model.add(LSTM(128))\n",
    "model.add(Dropout(0.3))\n",
    "model.add(Dense(64, activation=\"relu\"))\n",
    "model.add(Dropout(0.5))\n",
    "model.add(Dense(n_outputs, activation = \"softmax\"))\n",
    "model.summary()"
   ]
  },
  {
   "cell_type": "code",
   "execution_count": 148,
   "id": "12f3516a",
   "metadata": {},
   "outputs": [],
   "source": [
    "model.compile(optimizer=Adam(learning_rate = 0.001), loss = 'categorical_crossentropy', metrics = ['accuracy'])"
   ]
  },
  {
   "cell_type": "code",
   "execution_count": 149,
   "id": "b9997835",
   "metadata": {},
   "outputs": [
    {
     "name": "stdout",
     "output_type": "stream",
     "text": [
      "Epoch 1/10\n",
      "227/227 [==============================] - 32s 101ms/step - loss: 1.5096 - accuracy: 0.3918 - val_loss: 1.2817 - val_accuracy: 0.4876\n",
      "Epoch 2/10\n",
      "227/227 [==============================] - 21s 91ms/step - loss: 1.4069 - accuracy: 0.4339 - val_loss: 1.2950 - val_accuracy: 0.4629\n",
      "Epoch 3/10\n",
      "227/227 [==============================] - 21s 93ms/step - loss: 1.3930 - accuracy: 0.4491 - val_loss: 1.2825 - val_accuracy: 0.4926\n",
      "Epoch 4/10\n",
      "227/227 [==============================] - 20s 90ms/step - loss: 1.3705 - accuracy: 0.4535 - val_loss: 1.2744 - val_accuracy: 0.4864\n",
      "Epoch 5/10\n",
      "227/227 [==============================] - 20s 90ms/step - loss: 1.3526 - accuracy: 0.4537 - val_loss: 1.2793 - val_accuracy: 0.4752\n",
      "Epoch 6/10\n",
      "227/227 [==============================] - 20s 89ms/step - loss: 1.3428 - accuracy: 0.4672 - val_loss: 1.2681 - val_accuracy: 0.4765\n",
      "Epoch 7/10\n",
      "227/227 [==============================] - 20s 90ms/step - loss: 1.3335 - accuracy: 0.4671 - val_loss: 1.2445 - val_accuracy: 0.4827\n",
      "Epoch 8/10\n",
      "227/227 [==============================] - 21s 91ms/step - loss: 1.3272 - accuracy: 0.4660 - val_loss: 1.2498 - val_accuracy: 0.4851\n",
      "Epoch 9/10\n",
      "227/227 [==============================] - 20s 90ms/step - loss: 1.3119 - accuracy: 0.4740 - val_loss: 1.2445 - val_accuracy: 0.4864\n",
      "Epoch 10/10\n",
      "227/227 [==============================] - 21s 90ms/step - loss: 1.3034 - accuracy: 0.4745 - val_loss: 1.2436 - val_accuracy: 0.4913\n",
      "Model: \"sequential_2\"\n",
      "_________________________________________________________________\n",
      " Layer (type)                Output Shape              Param #   \n",
      "=================================================================\n",
      " lstm_4 (LSTM)               (None, 40, 64)            18176     \n",
      "                                                                 \n",
      " lstm_5 (LSTM)               (None, 128)               98816     \n",
      "                                                                 \n",
      " dropout_4 (Dropout)         (None, 128)               0         \n",
      "                                                                 \n",
      " dense_4 (Dense)             (None, 64)                8256      \n",
      "                                                                 \n",
      " dropout_5 (Dropout)         (None, 64)                0         \n",
      "                                                                 \n",
      " dense_5 (Dense)             (None, 7)                 455       \n",
      "                                                                 \n",
      "=================================================================\n",
      "Total params: 125703 (491.03 KB)\n",
      "Trainable params: 125703 (491.03 KB)\n",
      "Non-trainable params: 0 (0.00 Byte)\n",
      "_________________________________________________________________\n",
      "None\n"
     ]
    }
   ],
   "source": [
    "history = model.fit(X_train, y_train, epochs = 10, batch_size = 32, validation_split = 0.1, shuffle = True)\n",
    "print(model.summary())"
   ]
  },
  {
   "cell_type": "code",
   "execution_count": 150,
   "id": "afa8a3f4",
   "metadata": {
    "scrolled": false
   },
   "outputs": [
    {
     "name": "stdout",
     "output_type": "stream",
     "text": [
      "32/32 [==============================] - 2s 59ms/step - loss: 1.3219 - accuracy: 0.4819\n",
      "INFO:tensorflow:Assets written to: pamap2.pth\\assets\n"
     ]
    },
    {
     "name": "stderr",
     "output_type": "stream",
     "text": [
      "INFO:tensorflow:Assets written to: pamap2.pth\\assets\n"
     ]
    },
    {
     "name": "stdout",
     "output_type": "stream",
     "text": [
      "Accuracy >48.188585\n",
      "Base Loss >1.32\n"
     ]
    }
   ],
   "source": [
    "\n",
    "\n",
    "base_loss,base_accuracy=model.evaluate(X_test,y_test,batch_size=batch_size,verbose=1)\n",
    "modelpth='pamap2.pth'\n",
    "tf.keras.models.save_model(model, modelpth, include_optimizer=False) \n",
    "score=base_accuracy*100\n",
    "print('Accuracy >{:f}'.format(score))\n",
    "print('Base Loss >{:.2f}'.format(base_loss))\n"
   ]
  },
  {
   "cell_type": "markdown",
   "id": "afc473d3",
   "metadata": {},
   "source": [
    "HAND - HAND"
   ]
  },
  {
   "cell_type": "code",
   "execution_count": 151,
   "id": "340e76a5",
   "metadata": {},
   "outputs": [],
   "source": [
    "X_train, X_test, y_train, y_test = train_test_split(scaled_X, \n",
    "                                                    scaled_X[\"label\"],\n",
    "                                                    test_size = 0.95, \n",
    "                                                    shuffle = True, \n",
    "                                                    random_state = 21)"
   ]
  },
  {
   "cell_type": "code",
   "execution_count": 152,
   "id": "4575ae77",
   "metadata": {},
   "outputs": [
    {
     "name": "stderr",
     "output_type": "stream",
     "text": [
      "C:\\Users\\qtx01\\AppData\\Local\\Temp\\ipykernel_28264\\302130513.py:7: FutureWarning: Unlike other reduction functions (e.g. `skew`, `kurtosis`), the default behavior of `mode` typically preserves the axis it acts along. In SciPy 1.11.0, this behavior will change: the default value of `keepdims` will become False, the `axis` over which the statistic is taken will be eliminated, and the value None will no longer be accepted. Set `keepdims` to True or False to avoid this warning.\n",
      "  ys.append(stats.mode(labels)[0][0])\n",
      "C:\\Users\\qtx01\\AppData\\Local\\Temp\\ipykernel_28264\\302130513.py:7: FutureWarning: Unlike other reduction functions (e.g. `skew`, `kurtosis`), the default behavior of `mode` typically preserves the axis it acts along. In SciPy 1.11.0, this behavior will change: the default value of `keepdims` will become False, the `axis` over which the statistic is taken will be eliminated, and the value None will no longer be accepted. Set `keepdims` to True or False to avoid this warning.\n",
      "  ys.append(stats.mode(labels)[0][0])\n"
     ]
    },
    {
     "name": "stdout",
     "output_type": "stream",
     "text": [
      "(501, 40, 6) (501, 1)\n"
     ]
    }
   ],
   "source": [
    "X_train, y_train = create_dataset(X_train[['handAcc16_1' , 'handAcc16_2' , 'handAcc16_3' ,\n",
    "    'handAcc6_1' , 'handAcc6_2' , 'handAcc6_3' ]], X_train.label, TIME_STEPS,\n",
    "                                  STEP)\n",
    "X_test, y_test = create_dataset(X_test[[\n",
    "    'chestAcc16_1', 'chestAcc16_2',  'chestAcc16_3',   \n",
    "    'chestAcc6_1',  'chestAcc6_2',  'chestAcc6_3']], X_test.label, TIME_STEPS, STEP)\n",
    "\n",
    "print(X_train.shape, y_train.shape)"
   ]
  },
  {
   "cell_type": "code",
   "execution_count": 153,
   "id": "c445cf95",
   "metadata": {},
   "outputs": [
    {
     "name": "stderr",
     "output_type": "stream",
     "text": [
      "C:\\Users\\qtx01\\anaconda3\\Lib\\site-packages\\sklearn\\preprocessing\\_encoders.py:972: FutureWarning: `sparse` was renamed to `sparse_output` in version 1.2 and will be removed in 1.4. `sparse_output` is ignored unless you leave `sparse` to its default value.\n",
      "  warnings.warn(\n"
     ]
    }
   ],
   "source": [
    "enc = OneHotEncoder(handle_unknown = \"ignore\", sparse = False)\n",
    "enc = enc.fit(y_train)\n",
    "\n",
    "y_train = enc.transform(y_train)\n",
    "y_test = enc.transform(y_test)"
   ]
  },
  {
   "cell_type": "code",
   "execution_count": 154,
   "id": "35400531",
   "metadata": {},
   "outputs": [
    {
     "name": "stdout",
     "output_type": "stream",
     "text": [
      "X_train.shape:  (501, 40, 6)\n",
      "X_test.shape  (9586, 40, 6)\n",
      "y_train.shape  (501, 7)\n",
      "y_test.shape  (9586, 7)\n"
     ]
    }
   ],
   "source": [
    "print(\"X_train.shape: \", X_train.shape)\n",
    "print(\"X_test.shape \", X_test.shape)\n",
    "print(\"y_train.shape \", y_train.shape)\n",
    "print(\"y_test.shape \", y_test.shape)"
   ]
  },
  {
   "cell_type": "code",
   "execution_count": 155,
   "id": "bc9c1b80",
   "metadata": {
    "scrolled": true
   },
   "outputs": [
    {
     "name": "stdout",
     "output_type": "stream",
     "text": [
      "WARNING:tensorflow:No training configuration found in save file, so the model was *not* compiled. Compile it manually.\n"
     ]
    },
    {
     "name": "stderr",
     "output_type": "stream",
     "text": [
      "WARNING:tensorflow:No training configuration found in save file, so the model was *not* compiled. Compile it manually.\n"
     ]
    }
   ],
   "source": [
    "base_model = keras.models.load_model(modelpth)"
   ]
  },
  {
   "cell_type": "code",
   "execution_count": 156,
   "id": "4a95f560",
   "metadata": {},
   "outputs": [
    {
     "name": "stdout",
     "output_type": "stream",
     "text": [
      "Number of layers in the base model:  6\n"
     ]
    },
    {
     "name": "stderr",
     "output_type": "stream",
     "text": [
      "WARNING:absl:`lr` is deprecated in Keras optimizer, please use `learning_rate` or use the legacy optimizer, e.g.,tf.keras.optimizers.legacy.SGD.\n"
     ]
    },
    {
     "name": "stdout",
     "output_type": "stream",
     "text": [
      "Model: \"sequential_3\"\n",
      "_________________________________________________________________\n",
      " Layer (type)                Output Shape              Param #   \n",
      "=================================================================\n",
      " lstm_4 (LSTM)               (None, 40, 64)            18176     \n",
      "                                                                 \n",
      " lstm_5 (LSTM)               (None, 128)               98816     \n",
      "                                                                 \n",
      " dropout_4 (Dropout)         (None, 128)               0         \n",
      "                                                                 \n",
      " dense_4 (Dense)             (None, 64)                8256      \n",
      "                                                                 \n",
      " dropout_5 (Dropout)         (None, 64)                0         \n",
      "                                                                 \n",
      " dense_6 (Dense)             (None, 4)                 260       \n",
      "                                                                 \n",
      " dense_7 (Dense)             (None, 7)                 35        \n",
      "                                                                 \n",
      "=================================================================\n",
      "Total params: 125543 (490.40 KB)\n",
      "Trainable params: 8551 (33.40 KB)\n",
      "Non-trainable params: 116992 (457.00 KB)\n",
      "_________________________________________________________________\n"
     ]
    }
   ],
   "source": [
    "print(\"Number of layers in the base model: \", len(base_model.layers))\n",
    "fine_tune_at = 3\n",
    "\n",
    "for layer in base_model.layers[:fine_tune_at]:\n",
    "    layer.trainable = False\n",
    "\n",
    "new_model = Sequential(base_model.layers[:-1])\n",
    "new_model.add(Dense(4, activation=\"sigmoid\"))\n",
    "new_model.add(Dense(n_outputs, activation=\"sigmoid\"))\n",
    "new_model.compile(loss=\"categorical_crossentropy\",\n",
    "                     optimizer=keras.optimizers.SGD(lr=1e-3),\n",
    "                     metrics=[\"accuracy\"])\n",
    "new_model.summary()"
   ]
  },
  {
   "cell_type": "code",
   "execution_count": 157,
   "id": "22aeb615",
   "metadata": {
    "scrolled": true
   },
   "outputs": [
    {
     "data": {
      "text/html": [
       "<div>\n",
       "<style scoped>\n",
       "    .dataframe tbody tr th:only-of-type {\n",
       "        vertical-align: middle;\n",
       "    }\n",
       "\n",
       "    .dataframe tbody tr th {\n",
       "        vertical-align: top;\n",
       "    }\n",
       "\n",
       "    .dataframe thead th {\n",
       "        text-align: right;\n",
       "    }\n",
       "</style>\n",
       "<table border=\"1\" class=\"dataframe\">\n",
       "  <thead>\n",
       "    <tr style=\"text-align: right;\">\n",
       "      <th></th>\n",
       "      <th>Layer Type</th>\n",
       "      <th>Layer Name</th>\n",
       "      <th>Layer Trainable</th>\n",
       "    </tr>\n",
       "  </thead>\n",
       "  <tbody>\n",
       "    <tr>\n",
       "      <th>0</th>\n",
       "      <td>&lt;keras.src.layers.rnn.lstm.LSTM object at 0x00...</td>\n",
       "      <td>lstm_4</td>\n",
       "      <td>False</td>\n",
       "    </tr>\n",
       "    <tr>\n",
       "      <th>1</th>\n",
       "      <td>&lt;keras.src.layers.rnn.lstm.LSTM object at 0x00...</td>\n",
       "      <td>lstm_5</td>\n",
       "      <td>False</td>\n",
       "    </tr>\n",
       "    <tr>\n",
       "      <th>2</th>\n",
       "      <td>&lt;keras.src.layers.regularization.dropout.Dropo...</td>\n",
       "      <td>dropout_4</td>\n",
       "      <td>False</td>\n",
       "    </tr>\n",
       "    <tr>\n",
       "      <th>3</th>\n",
       "      <td>&lt;keras.src.layers.core.dense.Dense object at 0...</td>\n",
       "      <td>dense_4</td>\n",
       "      <td>True</td>\n",
       "    </tr>\n",
       "    <tr>\n",
       "      <th>4</th>\n",
       "      <td>&lt;keras.src.layers.regularization.dropout.Dropo...</td>\n",
       "      <td>dropout_5</td>\n",
       "      <td>True</td>\n",
       "    </tr>\n",
       "    <tr>\n",
       "      <th>5</th>\n",
       "      <td>&lt;keras.src.layers.core.dense.Dense object at 0...</td>\n",
       "      <td>dense_5</td>\n",
       "      <td>True</td>\n",
       "    </tr>\n",
       "  </tbody>\n",
       "</table>\n",
       "</div>"
      ],
      "text/plain": [
       "                                          Layer Type Layer Name  \\\n",
       "0  <keras.src.layers.rnn.lstm.LSTM object at 0x00...     lstm_4   \n",
       "1  <keras.src.layers.rnn.lstm.LSTM object at 0x00...     lstm_5   \n",
       "2  <keras.src.layers.regularization.dropout.Dropo...  dropout_4   \n",
       "3  <keras.src.layers.core.dense.Dense object at 0...    dense_4   \n",
       "4  <keras.src.layers.regularization.dropout.Dropo...  dropout_5   \n",
       "5  <keras.src.layers.core.dense.Dense object at 0...    dense_5   \n",
       "\n",
       "   Layer Trainable  \n",
       "0            False  \n",
       "1            False  \n",
       "2            False  \n",
       "3             True  \n",
       "4             True  \n",
       "5             True  "
      ]
     },
     "execution_count": 157,
     "metadata": {},
     "output_type": "execute_result"
    }
   ],
   "source": [
    "display_layers = [(layer, layer.name, layer.trainable) for layer in base_model.layers]\n",
    "pd.DataFrame(display_layers, columns=['Layer Type', 'Layer Name', 'Layer Trainable'])"
   ]
  },
  {
   "cell_type": "code",
   "execution_count": 158,
   "id": "9042b721",
   "metadata": {},
   "outputs": [
    {
     "name": "stdout",
     "output_type": "stream",
     "text": [
      "Epoch 1/10\n",
      "15/15 [==============================] - 11s 215ms/step - loss: 2.0259 - accuracy: 0.0400 - val_loss: 1.8728 - val_accuracy: 0.0588\n",
      "Epoch 2/10\n",
      "15/15 [==============================] - 1s 48ms/step - loss: 1.9760 - accuracy: 0.0533 - val_loss: 1.8405 - val_accuracy: 0.1569\n",
      "Epoch 3/10\n",
      "15/15 [==============================] - 1s 49ms/step - loss: 1.9205 - accuracy: 0.1756 - val_loss: 1.8106 - val_accuracy: 0.3333\n",
      "Epoch 4/10\n",
      "15/15 [==============================] - 1s 49ms/step - loss: 1.8804 - accuracy: 0.3289 - val_loss: 1.7827 - val_accuracy: 0.3333\n",
      "Epoch 5/10\n",
      "15/15 [==============================] - 1s 48ms/step - loss: 1.8366 - accuracy: 0.4044 - val_loss: 1.7585 - val_accuracy: 0.3529\n",
      "Epoch 6/10\n",
      "15/15 [==============================] - 1s 47ms/step - loss: 1.7936 - accuracy: 0.4667 - val_loss: 1.7370 - val_accuracy: 0.3529\n",
      "Epoch 7/10\n",
      "15/15 [==============================] - 1s 48ms/step - loss: 1.7629 - accuracy: 0.4667 - val_loss: 1.7180 - val_accuracy: 0.3529\n",
      "Epoch 8/10\n",
      "15/15 [==============================] - 1s 46ms/step - loss: 1.7271 - accuracy: 0.4689 - val_loss: 1.7026 - val_accuracy: 0.3529\n",
      "Epoch 9/10\n",
      "15/15 [==============================] - 1s 46ms/step - loss: 1.6918 - accuracy: 0.4733 - val_loss: 1.6896 - val_accuracy: 0.3529\n",
      "Epoch 10/10\n",
      "15/15 [==============================] - 1s 46ms/step - loss: 1.6673 - accuracy: 0.4711 - val_loss: 1.6772 - val_accuracy: 0.3529\n",
      "Model: \"sequential_3\"\n",
      "_________________________________________________________________\n",
      " Layer (type)                Output Shape              Param #   \n",
      "=================================================================\n",
      " lstm_4 (LSTM)               (None, 40, 64)            18176     \n",
      "                                                                 \n",
      " lstm_5 (LSTM)               (None, 128)               98816     \n",
      "                                                                 \n",
      " dropout_4 (Dropout)         (None, 128)               0         \n",
      "                                                                 \n",
      " dense_4 (Dense)             (None, 64)                8256      \n",
      "                                                                 \n",
      " dropout_5 (Dropout)         (None, 64)                0         \n",
      "                                                                 \n",
      " dense_6 (Dense)             (None, 4)                 260       \n",
      "                                                                 \n",
      " dense_7 (Dense)             (None, 7)                 35        \n",
      "                                                                 \n",
      "=================================================================\n",
      "Total params: 125543 (490.40 KB)\n",
      "Trainable params: 8551 (33.40 KB)\n",
      "Non-trainable params: 116992 (457.00 KB)\n",
      "_________________________________________________________________\n"
     ]
    }
   ],
   "source": [
    "history1 = new_model.fit(X_train, y_train, epochs=10, batch_size = 32, validation_split = 0.1, shuffle = True)\n",
    "new_model.summary()"
   ]
  },
  {
   "cell_type": "code",
   "execution_count": 159,
   "id": "aea0a763",
   "metadata": {
    "scrolled": true
   },
   "outputs": [
    {
     "name": "stderr",
     "output_type": "stream",
     "text": [
      "WARNING:absl:`lr` is deprecated in Keras optimizer, please use `learning_rate` or use the legacy optimizer, e.g.,tf.keras.optimizers.legacy.SGD.\n"
     ]
    }
   ],
   "source": [
    "base_model.trainable = True\n",
    "new_model.compile(loss=\"categorical_crossentropy\",\n",
    "                     optimizer=keras.optimizers.SGD(lr=1e-3),\n",
    "                     metrics=[\"accuracy\"])"
   ]
  },
  {
   "cell_type": "code",
   "execution_count": 160,
   "id": "00baf6ab",
   "metadata": {
    "scrolled": true
   },
   "outputs": [
    {
     "data": {
      "text/html": [
       "<div>\n",
       "<style scoped>\n",
       "    .dataframe tbody tr th:only-of-type {\n",
       "        vertical-align: middle;\n",
       "    }\n",
       "\n",
       "    .dataframe tbody tr th {\n",
       "        vertical-align: top;\n",
       "    }\n",
       "\n",
       "    .dataframe thead th {\n",
       "        text-align: right;\n",
       "    }\n",
       "</style>\n",
       "<table border=\"1\" class=\"dataframe\">\n",
       "  <thead>\n",
       "    <tr style=\"text-align: right;\">\n",
       "      <th></th>\n",
       "      <th>Layer Type</th>\n",
       "      <th>Layer Name</th>\n",
       "      <th>Layer Trainable</th>\n",
       "    </tr>\n",
       "  </thead>\n",
       "  <tbody>\n",
       "    <tr>\n",
       "      <th>0</th>\n",
       "      <td>&lt;keras.src.layers.rnn.lstm.LSTM object at 0x00...</td>\n",
       "      <td>lstm_4</td>\n",
       "      <td>True</td>\n",
       "    </tr>\n",
       "    <tr>\n",
       "      <th>1</th>\n",
       "      <td>&lt;keras.src.layers.rnn.lstm.LSTM object at 0x00...</td>\n",
       "      <td>lstm_5</td>\n",
       "      <td>True</td>\n",
       "    </tr>\n",
       "    <tr>\n",
       "      <th>2</th>\n",
       "      <td>&lt;keras.src.layers.regularization.dropout.Dropo...</td>\n",
       "      <td>dropout_4</td>\n",
       "      <td>True</td>\n",
       "    </tr>\n",
       "    <tr>\n",
       "      <th>3</th>\n",
       "      <td>&lt;keras.src.layers.core.dense.Dense object at 0...</td>\n",
       "      <td>dense_4</td>\n",
       "      <td>True</td>\n",
       "    </tr>\n",
       "    <tr>\n",
       "      <th>4</th>\n",
       "      <td>&lt;keras.src.layers.regularization.dropout.Dropo...</td>\n",
       "      <td>dropout_5</td>\n",
       "      <td>True</td>\n",
       "    </tr>\n",
       "    <tr>\n",
       "      <th>5</th>\n",
       "      <td>&lt;keras.src.layers.core.dense.Dense object at 0...</td>\n",
       "      <td>dense_5</td>\n",
       "      <td>True</td>\n",
       "    </tr>\n",
       "  </tbody>\n",
       "</table>\n",
       "</div>"
      ],
      "text/plain": [
       "                                          Layer Type Layer Name  \\\n",
       "0  <keras.src.layers.rnn.lstm.LSTM object at 0x00...     lstm_4   \n",
       "1  <keras.src.layers.rnn.lstm.LSTM object at 0x00...     lstm_5   \n",
       "2  <keras.src.layers.regularization.dropout.Dropo...  dropout_4   \n",
       "3  <keras.src.layers.core.dense.Dense object at 0...    dense_4   \n",
       "4  <keras.src.layers.regularization.dropout.Dropo...  dropout_5   \n",
       "5  <keras.src.layers.core.dense.Dense object at 0...    dense_5   \n",
       "\n",
       "   Layer Trainable  \n",
       "0             True  \n",
       "1             True  \n",
       "2             True  \n",
       "3             True  \n",
       "4             True  \n",
       "5             True  "
      ]
     },
     "execution_count": 160,
     "metadata": {},
     "output_type": "execute_result"
    }
   ],
   "source": [
    "\n",
    "display_layers = [(layer, layer.name, layer.trainable) for layer in base_model.layers]\n",
    "pd.DataFrame(display_layers, columns=['Layer Type', 'Layer Name', 'Layer Trainable'])"
   ]
  },
  {
   "cell_type": "code",
   "execution_count": 161,
   "id": "cd74a8f0",
   "metadata": {},
   "outputs": [
    {
     "name": "stdout",
     "output_type": "stream",
     "text": [
      "Epoch 1/10\n",
      "15/15 [==============================] - 15s 273ms/step - loss: 1.6405 - accuracy: 0.4711 - val_loss: 1.6637 - val_accuracy: 0.3529\n",
      "Epoch 2/10\n",
      "15/15 [==============================] - 2s 109ms/step - loss: 1.6228 - accuracy: 0.4711 - val_loss: 1.6525 - val_accuracy: 0.3529\n",
      "Epoch 3/10\n",
      "15/15 [==============================] - 2s 101ms/step - loss: 1.5994 - accuracy: 0.4711 - val_loss: 1.6437 - val_accuracy: 0.3529\n",
      "Epoch 4/10\n",
      "15/15 [==============================] - 2s 115ms/step - loss: 1.5772 - accuracy: 0.4711 - val_loss: 1.6301 - val_accuracy: 0.3529\n",
      "Epoch 5/10\n",
      "15/15 [==============================] - 1s 100ms/step - loss: 1.5589 - accuracy: 0.4711 - val_loss: 1.6247 - val_accuracy: 0.3529\n",
      "Epoch 6/10\n",
      "15/15 [==============================] - 2s 104ms/step - loss: 1.5467 - accuracy: 0.4711 - val_loss: 1.6151 - val_accuracy: 0.3529\n",
      "Epoch 7/10\n",
      "15/15 [==============================] - 2s 100ms/step - loss: 1.5248 - accuracy: 0.4711 - val_loss: 1.6147 - val_accuracy: 0.3529\n",
      "Epoch 8/10\n",
      "15/15 [==============================] - 2s 106ms/step - loss: 1.5154 - accuracy: 0.4711 - val_loss: 1.6045 - val_accuracy: 0.3529\n",
      "Epoch 9/10\n",
      "15/15 [==============================] - 2s 108ms/step - loss: 1.4904 - accuracy: 0.4711 - val_loss: 1.6027 - val_accuracy: 0.3529\n",
      "Epoch 10/10\n",
      "15/15 [==============================] - 2s 105ms/step - loss: 1.4800 - accuracy: 0.4711 - val_loss: 1.6063 - val_accuracy: 0.3529\n",
      "Model: \"sequential_3\"\n",
      "_________________________________________________________________\n",
      " Layer (type)                Output Shape              Param #   \n",
      "=================================================================\n",
      " lstm_4 (LSTM)               (None, 40, 64)            18176     \n",
      "                                                                 \n",
      " lstm_5 (LSTM)               (None, 128)               98816     \n",
      "                                                                 \n",
      " dropout_4 (Dropout)         (None, 128)               0         \n",
      "                                                                 \n",
      " dense_4 (Dense)             (None, 64)                8256      \n",
      "                                                                 \n",
      " dropout_5 (Dropout)         (None, 64)                0         \n",
      "                                                                 \n",
      " dense_6 (Dense)             (None, 4)                 260       \n",
      "                                                                 \n",
      " dense_7 (Dense)             (None, 7)                 35        \n",
      "                                                                 \n",
      "=================================================================\n",
      "Total params: 125543 (490.40 KB)\n",
      "Trainable params: 125543 (490.40 KB)\n",
      "Non-trainable params: 0 (0.00 Byte)\n",
      "_________________________________________________________________\n"
     ]
    }
   ],
   "source": [
    "history2 = new_model.fit(X_train, y_train, epochs=10, batch_size = 32, validation_split = 0.1, shuffle = True)\n",
    "new_model.summary()"
   ]
  },
  {
   "cell_type": "code",
   "execution_count": 162,
   "id": "b19eebc6",
   "metadata": {},
   "outputs": [
    {
     "name": "stdout",
     "output_type": "stream",
     "text": [
      "150/150 [==============================] - 9s 61ms/step - loss: 1.6327 - accuracy: 0.3843\n",
      "Accuracy >38.431045\n",
      "Base Loss >1.63\n"
     ]
    }
   ],
   "source": [
    "base_loss,base_accuracy=new_model.evaluate(X_test,y_test,batch_size=batch_size,verbose=1)\n",
    "  \n",
    "score=base_accuracy*100\n",
    "print('Accuracy >{:f}'.format(score))\n",
    "print('Base Loss >{:.2f}'.format(base_loss))"
   ]
  },
  {
   "cell_type": "markdown",
   "id": "bfd6bc76",
   "metadata": {},
   "source": [
    "HAND - CHEST"
   ]
  },
  {
   "cell_type": "code",
   "execution_count": 163,
   "id": "a2be34ef",
   "metadata": {},
   "outputs": [],
   "source": [
    "X_train, X_test, y_train, y_test = train_test_split(scaled_X, \n",
    "                                                    scaled_X[\"label\"],\n",
    "                                                    test_size = 0.95, \n",
    "                                                    shuffle = True, \n",
    "                                                    random_state = 21)"
   ]
  },
  {
   "cell_type": "code",
   "execution_count": 164,
   "id": "f9bab6e0",
   "metadata": {},
   "outputs": [
    {
     "name": "stderr",
     "output_type": "stream",
     "text": [
      "C:\\Users\\qtx01\\AppData\\Local\\Temp\\ipykernel_28264\\302130513.py:7: FutureWarning: Unlike other reduction functions (e.g. `skew`, `kurtosis`), the default behavior of `mode` typically preserves the axis it acts along. In SciPy 1.11.0, this behavior will change: the default value of `keepdims` will become False, the `axis` over which the statistic is taken will be eliminated, and the value None will no longer be accepted. Set `keepdims` to True or False to avoid this warning.\n",
      "  ys.append(stats.mode(labels)[0][0])\n",
      "C:\\Users\\qtx01\\AppData\\Local\\Temp\\ipykernel_28264\\302130513.py:7: FutureWarning: Unlike other reduction functions (e.g. `skew`, `kurtosis`), the default behavior of `mode` typically preserves the axis it acts along. In SciPy 1.11.0, this behavior will change: the default value of `keepdims` will become False, the `axis` over which the statistic is taken will be eliminated, and the value None will no longer be accepted. Set `keepdims` to True or False to avoid this warning.\n",
      "  ys.append(stats.mode(labels)[0][0])\n"
     ]
    },
    {
     "name": "stdout",
     "output_type": "stream",
     "text": [
      "(501, 40, 6) (501, 1)\n"
     ]
    }
   ],
   "source": [
    "X_train, y_train = create_dataset(X_train[['chestAcc16_1', 'chestAcc16_2',  'chestAcc16_3',   \n",
    "    'chestAcc6_1',  'chestAcc6_2',  'chestAcc6_3' ]], X_train.label, TIME_STEPS,\n",
    "                                  STEP)\n",
    "X_test, y_test = create_dataset(X_test[[\n",
    "    'chestAcc16_1', 'chestAcc16_2',  'chestAcc16_3',   \n",
    "    'chestAcc6_1',  'chestAcc6_2',  'chestAcc6_3']], X_test.label, TIME_STEPS, STEP)\n",
    "\n",
    "print(X_train.shape, y_train.shape)"
   ]
  },
  {
   "cell_type": "code",
   "execution_count": 165,
   "id": "65f9edbb",
   "metadata": {},
   "outputs": [
    {
     "name": "stderr",
     "output_type": "stream",
     "text": [
      "C:\\Users\\qtx01\\anaconda3\\Lib\\site-packages\\sklearn\\preprocessing\\_encoders.py:972: FutureWarning: `sparse` was renamed to `sparse_output` in version 1.2 and will be removed in 1.4. `sparse_output` is ignored unless you leave `sparse` to its default value.\n",
      "  warnings.warn(\n"
     ]
    }
   ],
   "source": [
    "enc = OneHotEncoder(handle_unknown = \"ignore\", sparse = False)\n",
    "enc = enc.fit(y_train)\n",
    "\n",
    "y_train = enc.transform(y_train)\n",
    "y_test = enc.transform(y_test)"
   ]
  },
  {
   "cell_type": "code",
   "execution_count": 166,
   "id": "63ccd324",
   "metadata": {},
   "outputs": [
    {
     "data": {
      "text/plain": [
       "(40, 6, 7)"
      ]
     },
     "execution_count": 166,
     "metadata": {},
     "output_type": "execute_result"
    }
   ],
   "source": [
    "#Epoch 500\n",
    "\n",
    "verbose,epochs,batch_size=1,10,32 \n",
    "\n",
    "n_timesteps,n_features,n_outputs=X_train.shape[1],X_train.shape[2],y_train.shape[1]\n",
    "n_timesteps, n_features, n_outputs"
   ]
  },
  {
   "cell_type": "code",
   "execution_count": 167,
   "id": "38107b89",
   "metadata": {},
   "outputs": [
    {
     "name": "stdout",
     "output_type": "stream",
     "text": [
      "Model: \"sequential_4\"\n",
      "_________________________________________________________________\n",
      " Layer (type)                Output Shape              Param #   \n",
      "=================================================================\n",
      " lstm_6 (LSTM)               (None, 40, 64)            18176     \n",
      "                                                                 \n",
      " lstm_7 (LSTM)               (None, 128)               98816     \n",
      "                                                                 \n",
      " dropout_6 (Dropout)         (None, 128)               0         \n",
      "                                                                 \n",
      " dense_8 (Dense)             (None, 64)                8256      \n",
      "                                                                 \n",
      " dropout_7 (Dropout)         (None, 64)                0         \n",
      "                                                                 \n",
      " dense_9 (Dense)             (None, 7)                 455       \n",
      "                                                                 \n",
      "=================================================================\n",
      "Total params: 125703 (491.03 KB)\n",
      "Trainable params: 125703 (491.03 KB)\n",
      "Non-trainable params: 0 (0.00 Byte)\n",
      "_________________________________________________________________\n"
     ]
    }
   ],
   "source": [
    "\n",
    "#CNN MODEL\n",
    "model2 = Sequential()\n",
    "\n",
    "model2.add(LSTM(64,input_shape = [n_timesteps, n_features], return_sequences=True))\n",
    "model2.add(LSTM(128))\n",
    "model2.add(Dropout(0.3))\n",
    "model2.add(Dense(64, activation=\"relu\"))\n",
    "model2.add(Dropout(0.5))\n",
    "model2.add(Dense(n_outputs, activation = \"softmax\"))\n",
    "\n",
    "model2.summary()"
   ]
  },
  {
   "cell_type": "code",
   "execution_count": 168,
   "id": "0d2db98c",
   "metadata": {},
   "outputs": [
    {
     "name": "stdout",
     "output_type": "stream",
     "text": [
      "Epoch 1/40\n",
      "15/15 [==============================] - 15s 278ms/step - loss: 1.8429 - accuracy: 0.3622 - val_loss: 1.7007 - val_accuracy: 0.3529\n",
      "Epoch 2/40\n",
      "15/15 [==============================] - 2s 110ms/step - loss: 1.4955 - accuracy: 0.4622 - val_loss: 1.5759 - val_accuracy: 0.3529\n",
      "Epoch 3/40\n",
      "15/15 [==============================] - 2s 103ms/step - loss: 1.4212 - accuracy: 0.4422 - val_loss: 1.5771 - val_accuracy: 0.3529\n",
      "Epoch 4/40\n",
      "15/15 [==============================] - 2s 103ms/step - loss: 1.3993 - accuracy: 0.4422 - val_loss: 1.5723 - val_accuracy: 0.2549\n",
      "Epoch 5/40\n",
      "15/15 [==============================] - 2s 106ms/step - loss: 1.4010 - accuracy: 0.4444 - val_loss: 1.6729 - val_accuracy: 0.2157\n",
      "Epoch 6/40\n",
      "15/15 [==============================] - 2s 103ms/step - loss: 1.3286 - accuracy: 0.4689 - val_loss: 1.5414 - val_accuracy: 0.3529\n",
      "Epoch 7/40\n",
      "15/15 [==============================] - 2s 113ms/step - loss: 1.3429 - accuracy: 0.4556 - val_loss: 1.5153 - val_accuracy: 0.2941\n",
      "Epoch 8/40\n",
      "15/15 [==============================] - 2s 103ms/step - loss: 1.3172 - accuracy: 0.4889 - val_loss: 1.6057 - val_accuracy: 0.2157\n",
      "Epoch 9/40\n",
      "15/15 [==============================] - 2s 108ms/step - loss: 1.3290 - accuracy: 0.4600 - val_loss: 1.5860 - val_accuracy: 0.2745\n",
      "Epoch 10/40\n",
      "15/15 [==============================] - 2s 103ms/step - loss: 1.3220 - accuracy: 0.4822 - val_loss: 1.6052 - val_accuracy: 0.2745\n",
      "Epoch 11/40\n",
      "15/15 [==============================] - 2s 106ms/step - loss: 1.2834 - accuracy: 0.4622 - val_loss: 1.6361 - val_accuracy: 0.2157\n",
      "Epoch 12/40\n",
      "15/15 [==============================] - 2s 104ms/step - loss: 1.2929 - accuracy: 0.4667 - val_loss: 1.5627 - val_accuracy: 0.2745\n",
      "Epoch 13/40\n",
      "15/15 [==============================] - 2s 106ms/step - loss: 1.3189 - accuracy: 0.4667 - val_loss: 1.5831 - val_accuracy: 0.2745\n",
      "Epoch 14/40\n",
      "15/15 [==============================] - 2s 109ms/step - loss: 1.2620 - accuracy: 0.4822 - val_loss: 1.6544 - val_accuracy: 0.2549\n",
      "Epoch 15/40\n",
      "15/15 [==============================] - 2s 110ms/step - loss: 1.2721 - accuracy: 0.5067 - val_loss: 1.6507 - val_accuracy: 0.2353\n",
      "Epoch 16/40\n",
      "15/15 [==============================] - 2s 108ms/step - loss: 1.2161 - accuracy: 0.5044 - val_loss: 1.6932 - val_accuracy: 0.2353\n",
      "Epoch 17/40\n",
      "15/15 [==============================] - 2s 108ms/step - loss: 1.2345 - accuracy: 0.5467 - val_loss: 1.6881 - val_accuracy: 0.2549\n",
      "Epoch 18/40\n",
      "15/15 [==============================] - 2s 101ms/step - loss: 1.1987 - accuracy: 0.5467 - val_loss: 1.7644 - val_accuracy: 0.2941\n",
      "Epoch 19/40\n",
      "15/15 [==============================] - 2s 105ms/step - loss: 1.2003 - accuracy: 0.5356 - val_loss: 1.7167 - val_accuracy: 0.2941\n",
      "Epoch 20/40\n",
      "15/15 [==============================] - 2s 112ms/step - loss: 1.1416 - accuracy: 0.5511 - val_loss: 1.7770 - val_accuracy: 0.2745\n",
      "Epoch 21/40\n",
      "15/15 [==============================] - 2s 106ms/step - loss: 1.1690 - accuracy: 0.5622 - val_loss: 1.8375 - val_accuracy: 0.2549\n",
      "Epoch 22/40\n",
      "15/15 [==============================] - 2s 112ms/step - loss: 1.1444 - accuracy: 0.5711 - val_loss: 1.7411 - val_accuracy: 0.3529\n",
      "Epoch 23/40\n",
      "15/15 [==============================] - 2s 103ms/step - loss: 1.1761 - accuracy: 0.5400 - val_loss: 1.6014 - val_accuracy: 0.2941\n",
      "Epoch 24/40\n",
      "15/15 [==============================] - 2s 104ms/step - loss: 1.1651 - accuracy: 0.5400 - val_loss: 1.7482 - val_accuracy: 0.3333\n",
      "Epoch 25/40\n",
      "15/15 [==============================] - 2s 106ms/step - loss: 1.1324 - accuracy: 0.5756 - val_loss: 1.6577 - val_accuracy: 0.3529\n",
      "Epoch 26/40\n",
      "15/15 [==============================] - 2s 103ms/step - loss: 1.1282 - accuracy: 0.5600 - val_loss: 1.7346 - val_accuracy: 0.3529\n",
      "Epoch 27/40\n",
      "15/15 [==============================] - 2s 112ms/step - loss: 1.0735 - accuracy: 0.5756 - val_loss: 1.8344 - val_accuracy: 0.3137\n",
      "Epoch 28/40\n",
      "15/15 [==============================] - 2s 105ms/step - loss: 1.0969 - accuracy: 0.5867 - val_loss: 1.7383 - val_accuracy: 0.3137\n",
      "Epoch 29/40\n",
      "15/15 [==============================] - 2s 112ms/step - loss: 1.0589 - accuracy: 0.5956 - val_loss: 1.8953 - val_accuracy: 0.3333\n",
      "Epoch 30/40\n",
      "15/15 [==============================] - 2s 104ms/step - loss: 1.0256 - accuracy: 0.6133 - val_loss: 2.0083 - val_accuracy: 0.2941\n",
      "Epoch 31/40\n",
      "15/15 [==============================] - 2s 106ms/step - loss: 1.0547 - accuracy: 0.6000 - val_loss: 1.8730 - val_accuracy: 0.3725\n",
      "Epoch 32/40\n",
      "15/15 [==============================] - 2s 104ms/step - loss: 1.0231 - accuracy: 0.6222 - val_loss: 1.9136 - val_accuracy: 0.3137\n",
      "Epoch 33/40\n",
      "15/15 [==============================] - 2s 115ms/step - loss: 1.0151 - accuracy: 0.6000 - val_loss: 2.1128 - val_accuracy: 0.3529\n",
      "Epoch 34/40\n",
      "15/15 [==============================] - 2s 101ms/step - loss: 0.9977 - accuracy: 0.6267 - val_loss: 2.2336 - val_accuracy: 0.2941\n",
      "Epoch 35/40\n",
      "15/15 [==============================] - 2s 113ms/step - loss: 1.0360 - accuracy: 0.5867 - val_loss: 1.9150 - val_accuracy: 0.3725\n",
      "Epoch 36/40\n",
      "15/15 [==============================] - 2s 107ms/step - loss: 0.9546 - accuracy: 0.6489 - val_loss: 1.8555 - val_accuracy: 0.3922\n",
      "Epoch 37/40\n",
      "15/15 [==============================] - 2s 107ms/step - loss: 0.9246 - accuracy: 0.6356 - val_loss: 2.4830 - val_accuracy: 0.3529\n",
      "Epoch 38/40\n",
      "15/15 [==============================] - 2s 102ms/step - loss: 0.8704 - accuracy: 0.6400 - val_loss: 2.4785 - val_accuracy: 0.3333\n",
      "Epoch 39/40\n",
      "15/15 [==============================] - 2s 103ms/step - loss: 0.8734 - accuracy: 0.6422 - val_loss: 2.4971 - val_accuracy: 0.3725\n",
      "Epoch 40/40\n",
      "15/15 [==============================] - 2s 112ms/step - loss: 0.8981 - accuracy: 0.6444 - val_loss: 2.5241 - val_accuracy: 0.2745\n",
      "Model: \"sequential_4\"\n",
      "_________________________________________________________________\n",
      " Layer (type)                Output Shape              Param #   \n",
      "=================================================================\n",
      " lstm_6 (LSTM)               (None, 40, 64)            18176     \n",
      "                                                                 \n",
      " lstm_7 (LSTM)               (None, 128)               98816     \n",
      "                                                                 \n",
      " dropout_6 (Dropout)         (None, 128)               0         \n",
      "                                                                 \n",
      " dense_8 (Dense)             (None, 64)                8256      \n",
      "                                                                 \n",
      " dropout_7 (Dropout)         (None, 64)                0         \n",
      "                                                                 \n",
      " dense_9 (Dense)             (None, 7)                 455       \n",
      "                                                                 \n",
      "=================================================================\n",
      "Total params: 125703 (491.03 KB)\n",
      "Trainable params: 125703 (491.03 KB)\n",
      "Non-trainable params: 0 (0.00 Byte)\n",
      "_________________________________________________________________\n",
      "None\n"
     ]
    }
   ],
   "source": [
    "model2.compile(optimizer=Adam(learning_rate = 0.001), loss = 'categorical_crossentropy', metrics = ['accuracy'])\n",
    "history = model2.fit(X_train, y_train, epochs = 40, batch_size = 32, validation_split = 0.1, shuffle = True)\n",
    "print(model2.summary())"
   ]
  },
  {
   "cell_type": "code",
   "execution_count": 174,
   "id": "06b70c08",
   "metadata": {},
   "outputs": [
    {
     "name": "stdout",
     "output_type": "stream",
     "text": [
      "300/300 [==============================] - 12s 39ms/step - loss: 2.0117 - accuracy: 0.3645\n",
      "INFO:tensorflow:Assets written to: pamap2.pth2\\assets\n"
     ]
    },
    {
     "name": "stderr",
     "output_type": "stream",
     "text": [
      "INFO:tensorflow:Assets written to: pamap2.pth2\\assets\n"
     ]
    },
    {
     "name": "stdout",
     "output_type": "stream",
     "text": [
      "Accuracy >36.448988\n",
      "Base Loss >2.01\n"
     ]
    }
   ],
   "source": [
    "base_loss,base_accuracy=model2.evaluate(X_test,y_test,batch_size=batch_size,verbose=1)\n",
    "modelpth2='pamap2.pth2'\n",
    "tf.keras.models.save_model(model2, modelpth2, include_optimizer=False) \n",
    "score=base_accuracy*100\n",
    "print('Accuracy >{:f}'.format(score))\n",
    "print('Base Loss >{:.2f}'.format(base_loss))\n"
   ]
  },
  {
   "cell_type": "markdown",
   "id": "a56a17e6",
   "metadata": {},
   "source": [
    "CHEST - CHEST"
   ]
  },
  {
   "cell_type": "code",
   "execution_count": 175,
   "id": "e2b7465b",
   "metadata": {},
   "outputs": [],
   "source": [
    "X_train, X_test, y_train, y_test = train_test_split(scaled_X, \n",
    "                                                    scaled_X[\"label\"],\n",
    "                                                    test_size = 0.95, \n",
    "                                                    shuffle = True, \n",
    "                                                    random_state = 21)"
   ]
  },
  {
   "cell_type": "code",
   "execution_count": 176,
   "id": "c44813d8",
   "metadata": {
    "scrolled": true
   },
   "outputs": [
    {
     "name": "stderr",
     "output_type": "stream",
     "text": [
      "C:\\Users\\qtx01\\AppData\\Local\\Temp\\ipykernel_28264\\302130513.py:7: FutureWarning: Unlike other reduction functions (e.g. `skew`, `kurtosis`), the default behavior of `mode` typically preserves the axis it acts along. In SciPy 1.11.0, this behavior will change: the default value of `keepdims` will become False, the `axis` over which the statistic is taken will be eliminated, and the value None will no longer be accepted. Set `keepdims` to True or False to avoid this warning.\n",
      "  ys.append(stats.mode(labels)[0][0])\n",
      "C:\\Users\\qtx01\\AppData\\Local\\Temp\\ipykernel_28264\\302130513.py:7: FutureWarning: Unlike other reduction functions (e.g. `skew`, `kurtosis`), the default behavior of `mode` typically preserves the axis it acts along. In SciPy 1.11.0, this behavior will change: the default value of `keepdims` will become False, the `axis` over which the statistic is taken will be eliminated, and the value None will no longer be accepted. Set `keepdims` to True or False to avoid this warning.\n",
      "  ys.append(stats.mode(labels)[0][0])\n"
     ]
    },
    {
     "name": "stdout",
     "output_type": "stream",
     "text": [
      "(501, 40, 6) (501, 1)\n"
     ]
    }
   ],
   "source": [
    "X_train, y_train = create_dataset(X_train[['chestAcc16_1', 'chestAcc16_2',  'chestAcc16_3',   \n",
    "    'chestAcc6_1',  'chestAcc6_2',  'chestAcc6_3' ]], X_train.label, TIME_STEPS,\n",
    "                                  STEP)\n",
    "X_test, y_test = create_dataset(X_test[[\n",
    "    'handAcc16_1', 'handAcc16_2',  'handAcc16_3',   \n",
    "    'handAcc6_1',  'handAcc6_2',  'handAcc6_3']], X_test.label, TIME_STEPS, STEP)\n",
    "\n",
    "print(X_train.shape, y_train.shape)"
   ]
  },
  {
   "cell_type": "code",
   "execution_count": 177,
   "id": "cc5f1e20",
   "metadata": {
    "scrolled": true
   },
   "outputs": [
    {
     "name": "stderr",
     "output_type": "stream",
     "text": [
      "C:\\Users\\qtx01\\anaconda3\\Lib\\site-packages\\sklearn\\preprocessing\\_encoders.py:972: FutureWarning: `sparse` was renamed to `sparse_output` in version 1.2 and will be removed in 1.4. `sparse_output` is ignored unless you leave `sparse` to its default value.\n",
      "  warnings.warn(\n"
     ]
    }
   ],
   "source": [
    "enc = OneHotEncoder(handle_unknown = \"ignore\", sparse = False)\n",
    "enc = enc.fit(y_train)\n",
    "\n",
    "y_train = enc.transform(y_train)\n",
    "y_test = enc.transform(y_test)"
   ]
  },
  {
   "cell_type": "code",
   "execution_count": 178,
   "id": "549a69dd",
   "metadata": {},
   "outputs": [
    {
     "name": "stdout",
     "output_type": "stream",
     "text": [
      "WARNING:tensorflow:No training configuration found in save file, so the model was *not* compiled. Compile it manually.\n"
     ]
    },
    {
     "name": "stderr",
     "output_type": "stream",
     "text": [
      "WARNING:tensorflow:No training configuration found in save file, so the model was *not* compiled. Compile it manually.\n"
     ]
    }
   ],
   "source": [
    "base_model2 = keras.models.load_model(modelpth2)"
   ]
  },
  {
   "cell_type": "code",
   "execution_count": 179,
   "id": "0ee1849d",
   "metadata": {},
   "outputs": [
    {
     "name": "stdout",
     "output_type": "stream",
     "text": [
      "Number of layers in the base model:  6\n"
     ]
    },
    {
     "name": "stderr",
     "output_type": "stream",
     "text": [
      "WARNING:absl:`lr` is deprecated in Keras optimizer, please use `learning_rate` or use the legacy optimizer, e.g.,tf.keras.optimizers.legacy.SGD.\n"
     ]
    },
    {
     "name": "stdout",
     "output_type": "stream",
     "text": [
      "Model: \"sequential_5\"\n",
      "_________________________________________________________________\n",
      " Layer (type)                Output Shape              Param #   \n",
      "=================================================================\n",
      " lstm_6 (LSTM)               (None, 40, 64)            18176     \n",
      "                                                                 \n",
      " lstm_7 (LSTM)               (None, 128)               98816     \n",
      "                                                                 \n",
      " dropout_6 (Dropout)         (None, 128)               0         \n",
      "                                                                 \n",
      " dense_8 (Dense)             (None, 64)                8256      \n",
      "                                                                 \n",
      " dropout_7 (Dropout)         (None, 64)                0         \n",
      "                                                                 \n",
      " dense_10 (Dense)            (None, 4)                 260       \n",
      "                                                                 \n",
      " dense_11 (Dense)            (None, 7)                 35        \n",
      "                                                                 \n",
      "=================================================================\n",
      "Total params: 125543 (490.40 KB)\n",
      "Trainable params: 8551 (33.40 KB)\n",
      "Non-trainable params: 116992 (457.00 KB)\n",
      "_________________________________________________________________\n"
     ]
    }
   ],
   "source": [
    "print(\"Number of layers in the base model: \", len(base_model2.layers))\n",
    "fine_tune_at = 3\n",
    "\n",
    "for layer in base_model2.layers[:fine_tune_at]:\n",
    "    layer.trainable = False\n",
    "\n",
    "new_model2 = Sequential(base_model2.layers[:-1])\n",
    "new_model2.add(Dense(4, activation=\"sigmoid\"))\n",
    "new_model2.add(Dense(n_outputs, activation=\"sigmoid\"))\n",
    "new_model2.compile(loss=\"categorical_crossentropy\",\n",
    "                     optimizer=keras.optimizers.SGD(lr=1e-3),\n",
    "                     metrics=[\"accuracy\"])\n",
    "new_model2.summary()"
   ]
  },
  {
   "cell_type": "code",
   "execution_count": 180,
   "id": "3d716272",
   "metadata": {},
   "outputs": [
    {
     "data": {
      "text/html": [
       "<div>\n",
       "<style scoped>\n",
       "    .dataframe tbody tr th:only-of-type {\n",
       "        vertical-align: middle;\n",
       "    }\n",
       "\n",
       "    .dataframe tbody tr th {\n",
       "        vertical-align: top;\n",
       "    }\n",
       "\n",
       "    .dataframe thead th {\n",
       "        text-align: right;\n",
       "    }\n",
       "</style>\n",
       "<table border=\"1\" class=\"dataframe\">\n",
       "  <thead>\n",
       "    <tr style=\"text-align: right;\">\n",
       "      <th></th>\n",
       "      <th>Layer Type</th>\n",
       "      <th>Layer Name</th>\n",
       "      <th>Layer Trainable</th>\n",
       "    </tr>\n",
       "  </thead>\n",
       "  <tbody>\n",
       "    <tr>\n",
       "      <th>0</th>\n",
       "      <td>&lt;keras.src.layers.rnn.lstm.LSTM object at 0x00...</td>\n",
       "      <td>lstm_6</td>\n",
       "      <td>False</td>\n",
       "    </tr>\n",
       "    <tr>\n",
       "      <th>1</th>\n",
       "      <td>&lt;keras.src.layers.rnn.lstm.LSTM object at 0x00...</td>\n",
       "      <td>lstm_7</td>\n",
       "      <td>False</td>\n",
       "    </tr>\n",
       "    <tr>\n",
       "      <th>2</th>\n",
       "      <td>&lt;keras.src.layers.regularization.dropout.Dropo...</td>\n",
       "      <td>dropout_6</td>\n",
       "      <td>False</td>\n",
       "    </tr>\n",
       "    <tr>\n",
       "      <th>3</th>\n",
       "      <td>&lt;keras.src.layers.core.dense.Dense object at 0...</td>\n",
       "      <td>dense_8</td>\n",
       "      <td>True</td>\n",
       "    </tr>\n",
       "    <tr>\n",
       "      <th>4</th>\n",
       "      <td>&lt;keras.src.layers.regularization.dropout.Dropo...</td>\n",
       "      <td>dropout_7</td>\n",
       "      <td>True</td>\n",
       "    </tr>\n",
       "    <tr>\n",
       "      <th>5</th>\n",
       "      <td>&lt;keras.src.layers.core.dense.Dense object at 0...</td>\n",
       "      <td>dense_9</td>\n",
       "      <td>True</td>\n",
       "    </tr>\n",
       "  </tbody>\n",
       "</table>\n",
       "</div>"
      ],
      "text/plain": [
       "                                          Layer Type Layer Name  \\\n",
       "0  <keras.src.layers.rnn.lstm.LSTM object at 0x00...     lstm_6   \n",
       "1  <keras.src.layers.rnn.lstm.LSTM object at 0x00...     lstm_7   \n",
       "2  <keras.src.layers.regularization.dropout.Dropo...  dropout_6   \n",
       "3  <keras.src.layers.core.dense.Dense object at 0...    dense_8   \n",
       "4  <keras.src.layers.regularization.dropout.Dropo...  dropout_7   \n",
       "5  <keras.src.layers.core.dense.Dense object at 0...    dense_9   \n",
       "\n",
       "   Layer Trainable  \n",
       "0            False  \n",
       "1            False  \n",
       "2            False  \n",
       "3             True  \n",
       "4             True  \n",
       "5             True  "
      ]
     },
     "execution_count": 180,
     "metadata": {},
     "output_type": "execute_result"
    }
   ],
   "source": [
    "display_layers = [(layer, layer.name, layer.trainable) for layer in base_model2.layers]\n",
    "pd.DataFrame(display_layers, columns=['Layer Type', 'Layer Name', 'Layer Trainable'])"
   ]
  },
  {
   "cell_type": "code",
   "execution_count": 181,
   "id": "38b37814",
   "metadata": {},
   "outputs": [
    {
     "name": "stdout",
     "output_type": "stream",
     "text": [
      "Epoch 1/10\n",
      "15/15 [==============================] - 12s 224ms/step - loss: 2.2768 - accuracy: 0.0111 - val_loss: 2.1427 - val_accuracy: 0.0196\n",
      "Epoch 2/10\n",
      "15/15 [==============================] - 1s 58ms/step - loss: 2.2047 - accuracy: 0.0044 - val_loss: 2.0862 - val_accuracy: 0.0196\n",
      "Epoch 3/10\n",
      "15/15 [==============================] - 1s 57ms/step - loss: 2.1237 - accuracy: 0.0111 - val_loss: 2.0363 - val_accuracy: 0.0196\n",
      "Epoch 4/10\n",
      "15/15 [==============================] - 1s 53ms/step - loss: 2.0631 - accuracy: 0.0378 - val_loss: 1.9907 - val_accuracy: 0.0392\n",
      "Epoch 5/10\n",
      "15/15 [==============================] - 1s 59ms/step - loss: 1.9980 - accuracy: 0.0800 - val_loss: 1.9511 - val_accuracy: 0.0588\n",
      "Epoch 6/10\n",
      "15/15 [==============================] - 1s 57ms/step - loss: 1.9460 - accuracy: 0.1400 - val_loss: 1.9156 - val_accuracy: 0.2549\n",
      "Epoch 7/10\n",
      "15/15 [==============================] - 1s 56ms/step - loss: 1.8978 - accuracy: 0.2933 - val_loss: 1.8874 - val_accuracy: 0.3333\n",
      "Epoch 8/10\n",
      "15/15 [==============================] - 1s 56ms/step - loss: 1.8555 - accuracy: 0.3889 - val_loss: 1.8617 - val_accuracy: 0.3137\n",
      "Epoch 9/10\n",
      "15/15 [==============================] - 1s 58ms/step - loss: 1.8205 - accuracy: 0.4622 - val_loss: 1.8392 - val_accuracy: 0.3137\n",
      "Epoch 10/10\n",
      "15/15 [==============================] - 1s 57ms/step - loss: 1.7829 - accuracy: 0.5022 - val_loss: 1.8157 - val_accuracy: 0.3333\n",
      "Model: \"sequential_5\"\n",
      "_________________________________________________________________\n",
      " Layer (type)                Output Shape              Param #   \n",
      "=================================================================\n",
      " lstm_6 (LSTM)               (None, 40, 64)            18176     \n",
      "                                                                 \n",
      " lstm_7 (LSTM)               (None, 128)               98816     \n",
      "                                                                 \n",
      " dropout_6 (Dropout)         (None, 128)               0         \n",
      "                                                                 \n",
      " dense_8 (Dense)             (None, 64)                8256      \n",
      "                                                                 \n",
      " dropout_7 (Dropout)         (None, 64)                0         \n",
      "                                                                 \n",
      " dense_10 (Dense)            (None, 4)                 260       \n",
      "                                                                 \n",
      " dense_11 (Dense)            (None, 7)                 35        \n",
      "                                                                 \n",
      "=================================================================\n",
      "Total params: 125543 (490.40 KB)\n",
      "Trainable params: 8551 (33.40 KB)\n",
      "Non-trainable params: 116992 (457.00 KB)\n",
      "_________________________________________________________________\n"
     ]
    }
   ],
   "source": [
    "history3 = new_model2.fit(X_train, y_train, epochs=10, batch_size = 32, validation_split = 0.1, shuffle = True)\n",
    "new_model2.summary()"
   ]
  },
  {
   "cell_type": "code",
   "execution_count": 182,
   "id": "bf9ee8d6",
   "metadata": {},
   "outputs": [
    {
     "name": "stderr",
     "output_type": "stream",
     "text": [
      "WARNING:absl:`lr` is deprecated in Keras optimizer, please use `learning_rate` or use the legacy optimizer, e.g.,tf.keras.optimizers.legacy.SGD.\n"
     ]
    }
   ],
   "source": [
    "base_model2.trainable = True\n",
    "new_model2.compile(loss=\"categorical_crossentropy\",\n",
    "                     optimizer=keras.optimizers.SGD(lr=1e-3),\n",
    "                     metrics=[\"accuracy\"])"
   ]
  },
  {
   "cell_type": "code",
   "execution_count": 183,
   "id": "9ddddaf5",
   "metadata": {},
   "outputs": [
    {
     "data": {
      "text/html": [
       "<div>\n",
       "<style scoped>\n",
       "    .dataframe tbody tr th:only-of-type {\n",
       "        vertical-align: middle;\n",
       "    }\n",
       "\n",
       "    .dataframe tbody tr th {\n",
       "        vertical-align: top;\n",
       "    }\n",
       "\n",
       "    .dataframe thead th {\n",
       "        text-align: right;\n",
       "    }\n",
       "</style>\n",
       "<table border=\"1\" class=\"dataframe\">\n",
       "  <thead>\n",
       "    <tr style=\"text-align: right;\">\n",
       "      <th></th>\n",
       "      <th>Layer Type</th>\n",
       "      <th>Layer Name</th>\n",
       "      <th>Layer Trainable</th>\n",
       "    </tr>\n",
       "  </thead>\n",
       "  <tbody>\n",
       "    <tr>\n",
       "      <th>0</th>\n",
       "      <td>&lt;keras.src.layers.rnn.lstm.LSTM object at 0x00...</td>\n",
       "      <td>lstm_6</td>\n",
       "      <td>True</td>\n",
       "    </tr>\n",
       "    <tr>\n",
       "      <th>1</th>\n",
       "      <td>&lt;keras.src.layers.rnn.lstm.LSTM object at 0x00...</td>\n",
       "      <td>lstm_7</td>\n",
       "      <td>True</td>\n",
       "    </tr>\n",
       "    <tr>\n",
       "      <th>2</th>\n",
       "      <td>&lt;keras.src.layers.regularization.dropout.Dropo...</td>\n",
       "      <td>dropout_6</td>\n",
       "      <td>True</td>\n",
       "    </tr>\n",
       "    <tr>\n",
       "      <th>3</th>\n",
       "      <td>&lt;keras.src.layers.core.dense.Dense object at 0...</td>\n",
       "      <td>dense_8</td>\n",
       "      <td>True</td>\n",
       "    </tr>\n",
       "    <tr>\n",
       "      <th>4</th>\n",
       "      <td>&lt;keras.src.layers.regularization.dropout.Dropo...</td>\n",
       "      <td>dropout_7</td>\n",
       "      <td>True</td>\n",
       "    </tr>\n",
       "    <tr>\n",
       "      <th>5</th>\n",
       "      <td>&lt;keras.src.layers.core.dense.Dense object at 0...</td>\n",
       "      <td>dense_9</td>\n",
       "      <td>True</td>\n",
       "    </tr>\n",
       "  </tbody>\n",
       "</table>\n",
       "</div>"
      ],
      "text/plain": [
       "                                          Layer Type Layer Name  \\\n",
       "0  <keras.src.layers.rnn.lstm.LSTM object at 0x00...     lstm_6   \n",
       "1  <keras.src.layers.rnn.lstm.LSTM object at 0x00...     lstm_7   \n",
       "2  <keras.src.layers.regularization.dropout.Dropo...  dropout_6   \n",
       "3  <keras.src.layers.core.dense.Dense object at 0...    dense_8   \n",
       "4  <keras.src.layers.regularization.dropout.Dropo...  dropout_7   \n",
       "5  <keras.src.layers.core.dense.Dense object at 0...    dense_9   \n",
       "\n",
       "   Layer Trainable  \n",
       "0             True  \n",
       "1             True  \n",
       "2             True  \n",
       "3             True  \n",
       "4             True  \n",
       "5             True  "
      ]
     },
     "execution_count": 183,
     "metadata": {},
     "output_type": "execute_result"
    }
   ],
   "source": [
    "\n",
    "display_layers = [(layer, layer.name, layer.trainable) for layer in base_model2.layers]\n",
    "pd.DataFrame(display_layers, columns=['Layer Type', 'Layer Name', 'Layer Trainable'])"
   ]
  },
  {
   "cell_type": "code",
   "execution_count": 184,
   "id": "dc0b4ba4",
   "metadata": {},
   "outputs": [
    {
     "name": "stdout",
     "output_type": "stream",
     "text": [
      "Epoch 1/10\n",
      "15/15 [==============================] - 14s 293ms/step - loss: 1.7526 - accuracy: 0.4867 - val_loss: 1.7904 - val_accuracy: 0.3529\n",
      "Epoch 2/10\n",
      "15/15 [==============================] - 2s 118ms/step - loss: 1.7107 - accuracy: 0.5244 - val_loss: 1.7698 - val_accuracy: 0.3529\n",
      "Epoch 3/10\n",
      "15/15 [==============================] - 2s 128ms/step - loss: 1.6919 - accuracy: 0.5000 - val_loss: 1.7540 - val_accuracy: 0.3529\n",
      "Epoch 4/10\n",
      "15/15 [==============================] - 2s 121ms/step - loss: 1.6590 - accuracy: 0.4800 - val_loss: 1.7412 - val_accuracy: 0.3529\n",
      "Epoch 5/10\n",
      "15/15 [==============================] - 2s 120ms/step - loss: 1.6424 - accuracy: 0.4756 - val_loss: 1.7284 - val_accuracy: 0.3529\n",
      "Epoch 6/10\n",
      "15/15 [==============================] - 2s 116ms/step - loss: 1.6144 - accuracy: 0.4711 - val_loss: 1.7133 - val_accuracy: 0.3529\n",
      "Epoch 7/10\n",
      "15/15 [==============================] - 2s 129ms/step - loss: 1.5976 - accuracy: 0.4711 - val_loss: 1.7018 - val_accuracy: 0.3529\n",
      "Epoch 8/10\n",
      "15/15 [==============================] - 2s 121ms/step - loss: 1.5819 - accuracy: 0.4711 - val_loss: 1.6918 - val_accuracy: 0.3529\n",
      "Epoch 9/10\n",
      "15/15 [==============================] - 2s 121ms/step - loss: 1.5624 - accuracy: 0.4711 - val_loss: 1.6830 - val_accuracy: 0.3529\n",
      "Epoch 10/10\n",
      "15/15 [==============================] - 2s 124ms/step - loss: 1.5441 - accuracy: 0.4711 - val_loss: 1.6665 - val_accuracy: 0.3529\n",
      "Model: \"sequential_5\"\n",
      "_________________________________________________________________\n",
      " Layer (type)                Output Shape              Param #   \n",
      "=================================================================\n",
      " lstm_6 (LSTM)               (None, 40, 64)            18176     \n",
      "                                                                 \n",
      " lstm_7 (LSTM)               (None, 128)               98816     \n",
      "                                                                 \n",
      " dropout_6 (Dropout)         (None, 128)               0         \n",
      "                                                                 \n",
      " dense_8 (Dense)             (None, 64)                8256      \n",
      "                                                                 \n",
      " dropout_7 (Dropout)         (None, 64)                0         \n",
      "                                                                 \n",
      " dense_10 (Dense)            (None, 4)                 260       \n",
      "                                                                 \n",
      " dense_11 (Dense)            (None, 7)                 35        \n",
      "                                                                 \n",
      "=================================================================\n",
      "Total params: 125543 (490.40 KB)\n",
      "Trainable params: 125543 (490.40 KB)\n",
      "Non-trainable params: 0 (0.00 Byte)\n",
      "_________________________________________________________________\n"
     ]
    }
   ],
   "source": [
    "history4= new_model2.fit(X_train, y_train, epochs=10, batch_size = 32, validation_split = 0.1, shuffle = True)\n",
    "new_model2.summary()"
   ]
  },
  {
   "cell_type": "code",
   "execution_count": 185,
   "id": "5d032060",
   "metadata": {},
   "outputs": [
    {
     "name": "stdout",
     "output_type": "stream",
     "text": [
      "300/300 [==============================] - 14s 45ms/step - loss: 1.6421 - accuracy: 0.3843\n",
      "Accuracy >38.431045\n",
      "Base Loss >1.64\n"
     ]
    }
   ],
   "source": [
    "base_loss,base_accuracy=new_model2.evaluate(X_test,y_test,batch_size=batch_size,verbose=1)\n",
    "  \n",
    "score=base_accuracy*100\n",
    "print('Accuracy >{:f}'.format(score))\n",
    "print('Base Loss >{:.2f}'.format(base_loss))"
   ]
  },
  {
   "cell_type": "markdown",
   "id": "c47ea3e1",
   "metadata": {},
   "source": [
    "CHEST - HAND"
   ]
  }
 ],
 "metadata": {
  "kernelspec": {
   "display_name": "Python 3 (ipykernel)",
   "language": "python",
   "name": "python3"
  },
  "language_info": {
   "codemirror_mode": {
    "name": "ipython",
    "version": 3
   },
   "file_extension": ".py",
   "mimetype": "text/x-python",
   "name": "python",
   "nbconvert_exporter": "python",
   "pygments_lexer": "ipython3",
   "version": "3.11.4"
  }
 },
 "nbformat": 4,
 "nbformat_minor": 5
}
